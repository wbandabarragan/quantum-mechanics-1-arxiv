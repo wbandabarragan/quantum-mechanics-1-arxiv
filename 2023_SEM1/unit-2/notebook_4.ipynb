{
 "cells": [
  {
   "cell_type": "markdown",
   "id": "ab4c8caf",
   "metadata": {},
   "source": [
    "### 1D infinite-square potential:\n",
    "\n",
    "Consider a particle of mass $m$ moving in a small space surrounded by impenetrable barriers.\n",
    "\n",
    "The potential, $V(x)$, is given by the following piecewise function:\n",
    "\n",
    "$   \n",
    "V(x)= \n",
    "     \\begin{cases}\n",
    "       0, & 0 \\leq x \\leq a\\\\\n",
    "       \\infty, & \\rm elsewhere\\\\\n",
    "     \\end{cases}\n",
    "$\n",
    "\n",
    "Since $V(x)$ is time-independent, the solutions to the Schrödinger equation can be separated into spatial and temporal wave functions:\n",
    "\n",
    "$\\Psi(x,t) = \\psi_n(x)\\,e^{-i\\frac{E_n}{\\hbar}t}$\n",
    "\n",
    "As you know, the last term is called the \"wiggle factor\".\n",
    "\n",
    "**The purpose of this problem is to find the stationary state solutions and sketch them using python tools**.\n",
    "\n",
    "**(a)** Use python to make a plot of $V(x)$, labelling the regions of interest (i.e., the barriers and well). **Hint:** Note that $V(x)$ is a piece-wise function that can be $+\\infty$ at the barriers, so you can define very large y-values for the barriers and then chop the y-axis when plotting to show just the bottom part.\n",
    "\n",
    "**(b)** What is the wave function outside of the well? Why? Write down this solution.\n",
    "\n",
    "**(c)** Write down the relevant ODE for the particle inside the well.\n",
    "\n",
    "**(d)** Use sympy to solve the ODE for the particle inside the well. Write down the solution.\n",
    "\n",
    "**(e)** Now you have stationary state solutions for inside and outside of the well, but the coefficients are still undefined. Write down the relevant boundary conditions (linear system of equations) to simplify the solution and to find an expression for $E_n$. **Hint:** Recall that $\\psi$ needs to be continuous.\n",
    "\n",
    "**(f)** Use sympy to normalise the resulting wave function, and write down the global solution. **Hint:** This involves calculating the integral of an analytical function.\n",
    "\n",
    "**(g)** Inside a python function, plug some ansatz and make plots of the first $4$ stationary states, $\\Psi(x,0)$, at time $t=0$. **Hint:** Note that these have to be energy eigenstates.\n",
    "\n",
    "**(h)** Now append the wiggle factor, call the above function for different times, and create a movie with $4$ panels showing how the first $4$ stationary states $\\Psi(x,t)$ evolve in time. Add a time stamp to the movies."
   ]
  },
  {
   "cell_type": "markdown",
   "id": "1b354b63",
   "metadata": {},
   "source": [
    "### Solution:"
   ]
  },
  {
   "cell_type": "markdown",
   "id": "bbc53e23",
   "metadata": {},
   "source": [
    "**(1.0 point) (a)** Use python to make a plot of $V(x)$, labelling the regions of interest (i.e., the barriers and well). **Hint:** Note that $V(x)$ is a piece-wise function that can be $+\\infty$ at the barriers, so you can define very large y-values for the barriers and then chop the y-axis when plotting to show just the bottom part."
   ]
  },
  {
   "cell_type": "code",
   "execution_count": 1,
   "id": "54937507",
   "metadata": {},
   "outputs": [],
   "source": [
    "import numpy as np\n",
    "import matplotlib.pyplot as plt\n",
    "import scipy.constants as ct"
   ]
  },
  {
   "cell_type": "code",
   "execution_count": 2,
   "id": "3469f12b",
   "metadata": {},
   "outputs": [],
   "source": [
    "def f(x, a):\n",
    "    if(0 <= x <= a):\n",
    "        return 0\n",
    "    else:\n",
    "        return 1000"
   ]
  },
  {
   "cell_type": "code",
   "execution_count": 3,
   "id": "120c97c1",
   "metadata": {},
   "outputs": [],
   "source": [
    "# Fix a = 2\n",
    "m = ct.m_e\n",
    "a = 2.e-10 # 2 Angstrom, 0.2nm"
   ]
  },
  {
   "cell_type": "code",
   "execution_count": 4,
   "id": "5db3a370",
   "metadata": {},
   "outputs": [],
   "source": [
    "x = np.arange(-3.e-10, 5.e-10, 1.e-11)\n",
    "\n",
    "y = []\n",
    "\n",
    "for i in range(len(x)):\n",
    "    y.append(f(x[i], a))"
   ]
  },
  {
   "cell_type": "code",
   "execution_count": 5,
   "id": "90040131",
   "metadata": {},
   "outputs": [
    {
     "data": {
      "image/png": "[encoded data removed]",
      "text/plain": [
       "<Figure size 432x288 with 1 Axes>"
      ]
     },
     "metadata": {
      "needs_background": "light"
     },
     "output_type": "display_data"
    }
   ],
   "source": [
    "plt.plot(x, y, c='red', ls='-')\n",
    "\n",
    "plt.ylim(0,800)\n",
    "plt.show()"
   ]
  },
  {
   "cell_type": "markdown",
   "id": "a3280490",
   "metadata": {},
   "source": [
    "**(0.5 point) (b)** What is the wave function outside of the well? Why? Write down this solution."
   ]
  },
  {
   "cell_type": "markdown",
   "id": "c8c61aa3",
   "metadata": {},
   "source": [
    "$\\psi =0$ in regions I and III."
   ]
  },
  {
   "cell_type": "markdown",
   "id": "801f8bdb",
   "metadata": {},
   "source": [
    "**(0.5 point) (c)** Write down the relevant ODE for the particle inside the well."
   ]
  },
  {
   "cell_type": "markdown",
   "id": "8677745d",
   "metadata": {},
   "source": [
    "$\\frac{-\\hbar^2}{2m}\\frac{d^2 \\psi}{d x^2} = E\\psi$\n",
    "\n",
    "because $V(x)=0$."
   ]
  },
  {
   "cell_type": "code",
   "execution_count": 6,
   "id": "04ffc0a3",
   "metadata": {},
   "outputs": [],
   "source": [
    "import sympy as sp\n",
    "\n",
    "# To see the outputs in latex format\n",
    "from sympy.interactive import printing\n",
    "printing.init_printing(use_latex = True)"
   ]
  },
  {
   "cell_type": "markdown",
   "id": "3fdd6f00",
   "metadata": {},
   "source": [
    "$\\frac{d^2}{d x^2}\\psi + \\frac{2mE}{\\hbar^2}\\psi=0$\n",
    "\n",
    "In terms of the wavenumber: $k^2=\\frac{2mE}{\\hbar^2}$ (eq 1.)\n",
    "\n",
    "$\\frac{d^2}{d x^2}\\psi + k^2\\psi=0$"
   ]
  },
  {
   "cell_type": "code",
   "execution_count": 7,
   "id": "953c0bc7",
   "metadata": {},
   "outputs": [],
   "source": [
    "# We define symbols for variables and functions:\n",
    "\n",
    "# For variable x:\n",
    "x, k = sp.symbols('x, k')\n",
    "\n",
    "# For function f(x):\n",
    "y = sp.Function('y')"
   ]
  },
  {
   "cell_type": "code",
   "execution_count": 8,
   "id": "f2668225",
   "metadata": {},
   "outputs": [
    {
     "data": {
      "image/png": "[encoded data removed]",
      "text/latex": [
       "$\\displaystyle k^{2} y{\\left(x \\right)} + \\frac{d^{2}}{d x^{2}} y{\\left(x \\right)} = 0$"
      ],
      "text/plain": [
       "            2          \n",
       " 2         d           \n",
       "k ⋅y(x) + ───(y(x)) = 0\n",
       "            2          \n",
       "          dx           "
      ]
     },
     "metadata": {},
     "output_type": "display_data"
    }
   ],
   "source": [
    "# We define the ODE:\n",
    "\n",
    "diffeq = sp.Eq(y(x).diff(x,2) + k**2*y(x), 0)\n",
    "\n",
    "display(diffeq)"
   ]
  },
  {
   "cell_type": "code",
   "execution_count": 9,
   "id": "7030f375",
   "metadata": {},
   "outputs": [
    {
     "data": {
      "image/png": "[encoded data removed]",
      "text/latex": [
       "$\\displaystyle y{\\left(x \\right)} = C_{1} e^{- i k x} + C_{2} e^{i k x}$"
      ],
      "text/plain": [
       "           -ⅈ⋅k⋅x       ⅈ⋅k⋅x\n",
       "y(x) = C₁⋅ℯ       + C₂⋅ℯ     "
      ]
     },
     "metadata": {},
     "output_type": "display_data"
    }
   ],
   "source": [
    "# Solution to the ODE:\n",
    "\n",
    "result = sp.dsolve(diffeq, y(x))\n",
    "\n",
    "display(result)"
   ]
  },
  {
   "cell_type": "markdown",
   "id": "764b4c39",
   "metadata": {},
   "source": [
    "Then, the solution is harmonic:\n",
    "\n",
    "$\\psi(x) = C'_1\\,\\cos(kx)+ C'_2\\,\\sin(kx)$"
   ]
  },
  {
   "cell_type": "markdown",
   "id": "1fcd8b3f",
   "metadata": {},
   "source": [
    "**(1.0 point) (e)** Now you have stationary state solutions for inside and outside of the well, but the coefficients are still undefined. Write down the relevant boundary conditions (linear system of equations) to simplify the solution and to find an expression for $E_n$. **Hint:** Recall that $\\psi$ needs to be continuous."
   ]
  },
  {
   "cell_type": "markdown",
   "id": "2c71785d",
   "metadata": {},
   "source": [
    "The relevant boundary conditions are:\n",
    "\n",
    "$\\psi(0)=0 \\Rightarrow \\psi(0) = C'_1\\,\\cos(0)+ C'_2\\,\\sin(0)=0 \\Rightarrow C_1'=0$\n",
    "\n",
    "\n",
    "$\\psi(a)=0 \\Rightarrow \\psi(a) = C'_1\\,\\cos(ka)+ C'_2\\,\\sin(ka)=0 \\Rightarrow \\sin(ka)=0$"
   ]
  },
  {
   "cell_type": "code",
   "execution_count": 10,
   "id": "054a43ff",
   "metadata": {},
   "outputs": [],
   "source": [
    "import numpy as np\n",
    "import scipy.optimize as opt"
   ]
  },
  {
   "cell_type": "code",
   "execution_count": 11,
   "id": "cc2e5ba3",
   "metadata": {},
   "outputs": [],
   "source": [
    "x = np.arange(0, 20*np.pi, 0.01)\n",
    "\n",
    "func = lambda x: np.sin(x)\n",
    "\n",
    "y = func(x)"
   ]
  },
  {
   "cell_type": "code",
   "execution_count": 12,
   "id": "bec4bd6e",
   "metadata": {},
   "outputs": [
    {
     "data": {
      "image/png": "[encoded data removed]",
      "text/plain": [
       "<Figure size 432x288 with 1 Axes>"
      ]
     },
     "metadata": {
      "needs_background": "light"
     },
     "output_type": "display_data"
    }
   ],
   "source": [
    "%matplotlib inline\n",
    "\n",
    "plt.plot(x, y)\n",
    "plt.grid()"
   ]
  },
  {
   "cell_type": "code",
   "execution_count": 13,
   "id": "68b73d0b",
   "metadata": {},
   "outputs": [],
   "source": [
    "x_0 = np.arange(0, 20*np.pi, np.pi)"
   ]
  },
  {
   "cell_type": "code",
   "execution_count": 14,
   "id": "1c2e8fc8",
   "metadata": {},
   "outputs": [
    {
     "name": "stdout",
     "output_type": "stream",
     "text": [
      "[ 0.  1.  2.  3.  4.  5.  6.  7.  8.  9. 10. 11. 12. 13. 14. 15. 16. 17.\n",
      " 18. 19.]\n"
     ]
    }
   ],
   "source": [
    "roots_func = opt.fsolve(func, x_0)\n",
    "\n",
    "print(roots_func/np.pi)"
   ]
  },
  {
   "cell_type": "markdown",
   "id": "dcfba479",
   "metadata": {},
   "source": [
    "Therefore, $ka=n\\pi$, where $n$ is an integer. It cannot be zero because it results in a trivial solution.\n",
    "\n",
    "For the energy:\n",
    "\n",
    "$E=\\frac{k^2\\hbar^2}{2m}=\\frac{n^2\\pi^2\\hbar^2}{2ma^2}$"
   ]
  },
  {
   "cell_type": "markdown",
   "id": "23623f3a",
   "metadata": {},
   "source": [
    "**(1.0 point) (f)** Use sympy to normalise the resulting wave function, and write down the global solution. **Hint:** This involves calculating the integral of an analytical function."
   ]
  },
  {
   "cell_type": "markdown",
   "id": "eae664b9",
   "metadata": {},
   "source": [
    "The resulting wave function is:\n",
    "\n",
    "$\\psi(x)= C'_2\\,\\sin\\left(\\frac{n\\pi}{a}x\\right)$\n",
    "\n",
    "\n",
    "We want to normalise it:\n",
    "\n",
    "$\\int^a_0|\\psi(x)|^2\\,dx=1$\n",
    "\n",
    "$(C'_2)^2\\,\\int^a_0\\sin^2\\left(\\frac{n\\pi}{a}x\\right)=1$"
   ]
  },
  {
   "cell_type": "code",
   "execution_count": 15,
   "id": "c9554b90",
   "metadata": {},
   "outputs": [],
   "source": [
    "from sympy import sin, pi"
   ]
  },
  {
   "cell_type": "code",
   "execution_count": 16,
   "id": "62c4207a",
   "metadata": {},
   "outputs": [
    {
     "data": {
      "image/png": "[encoded data removed]",
      "text/latex": [
       "$\\displaystyle \\begin{cases} \\frac{a}{2} - \\frac{a \\sin{\\left(2 \\pi n \\right)}}{4 \\pi n} & \\text{for}\\: \\frac{\\pi n}{a} \\neq 0 \\\\0 & \\text{otherwise} \\end{cases}$"
      ],
      "text/plain": [
       "⎧a   a⋅sin(2⋅π⋅n)      π⋅n    \n",
       "⎪─ - ────────────  for ─── ≠ 0\n",
       "⎨2      4⋅π⋅n           a     \n",
       "⎪                             \n",
       "⎩       0           otherwise "
      ]
     },
     "metadata": {},
     "output_type": "display_data"
    }
   ],
   "source": [
    "x, a, n = sp.symbols('x a n')\n",
    "\n",
    "y = sp.integrate((sin(n*pi*x/a))**2, (x, 0, a))\n",
    "\n",
    "display(sp.simplify(y))"
   ]
  },
  {
   "cell_type": "markdown",
   "id": "50e4052a",
   "metadata": {},
   "source": [
    "Therefore:\n",
    "$C'_2 = \\sqrt{\\frac{2}{a}}$\n",
    "\n",
    "The resulting wave function is:\n",
    "\n",
    "$\\psi(x)= \\sqrt{\\frac{2}{a}}\\,\\sin\\left(\\frac{n\\pi}{a}x\\right)$"
   ]
  },
  {
   "cell_type": "markdown",
   "id": "3c933b09",
   "metadata": {},
   "source": [
    "**(1.5 point) (g)** Inside a python function, plug some ansatz and make plots of the first $4$ stationary states, $\\Psi(x,0)$, at time $t=0$. **Hint:** Note that these have to be energy eigenstates."
   ]
  },
  {
   "cell_type": "code",
   "execution_count": 17,
   "id": "6f95bcbc",
   "metadata": {},
   "outputs": [
    {
     "name": "stdout",
     "output_type": "stream",
     "text": [
      "5499.11696995843*a**2\n"
     ]
    }
   ],
   "source": [
    "E_n = (1**2*np.pi**2*ct.hbar**2)/(2*m*a**2)\n",
    "print((np.pi*ct.hbar)/E_n)"
   ]
  },
  {
   "cell_type": "code",
   "execution_count": 18,
   "id": "797d97ae",
   "metadata": {},
   "outputs": [],
   "source": [
    "def psi_function(a, n, x, t):\n",
    "    \n",
    "    E_n = (n**2*np.pi**2*ct.hbar**2)/(2*m*a**2)\n",
    "  \n",
    "    psi_x = np.sqrt(2/a)*np.sin(n*np.pi*x/a)*np.cos(E_n*t/ct.hbar)\n",
    "\n",
    "    return psi_x"
   ]
  },
  {
   "cell_type": "code",
   "execution_count": 19,
   "id": "ac11b535",
   "metadata": {},
   "outputs": [],
   "source": [
    "a = 2.e-10\n",
    "x = np.arange(-3.e-10, 5.e-10, 1.e-12)"
   ]
  },
  {
   "cell_type": "code",
   "execution_count": 20,
   "id": "0624c85f",
   "metadata": {},
   "outputs": [],
   "source": [
    "y1 = psi_function(a, 1, x, 0) # n=1\n",
    "\n",
    "y2 = psi_function(a, 2, x, 0) # n=2\n",
    "\n",
    "y3 = psi_function(a, 3, x, 0) # n=3\n",
    "\n",
    "y4 = psi_function(a, 4, x, 0) # n=4"
   ]
  },
  {
   "cell_type": "code",
   "execution_count": 21,
   "id": "ee063648",
   "metadata": {},
   "outputs": [
    {
     "data": {
      "image/png": "[encoded data removed]",
      "text/plain": [
       "<Figure size 720x432 with 4 Axes>"
      ]
     },
     "metadata": {
      "needs_background": "light"
     },
     "output_type": "display_data"
    }
   ],
   "source": [
    "fig, ax = plt.subplots(2,2, figsize=(10,6))\n",
    "\n",
    "ax[0][0].plot(x, y1,  label = r'$\\psi_1$')\n",
    "ax[0][1].plot(x, y2,  label = r'$\\psi_2$')\n",
    "ax[1][0].plot(x, y3,  label = r'$\\psi_3$')\n",
    "ax[1][1].plot(x, y4,  label = r'$\\psi_4$')\n",
    "\n",
    "ax[0][0].legend()\n",
    "ax[0][1].legend()\n",
    "ax[1][0].legend()\n",
    "ax[1][1].legend()\n",
    "\n",
    "ax[0][0].set_xlim(0,2.e-10)\n",
    "ax[0][1].set_xlim(0,2.e-10)\n",
    "ax[1][0].set_xlim(0,2.e-10)\n",
    "ax[1][1].set_xlim(0,2.e-10)\n",
    "\n",
    "ax[0][0].set_ylim(-1.5e5,1.5e5)\n",
    "ax[0][1].set_ylim(-1.5e5,1.5e5)\n",
    "ax[1][0].set_ylim(-1.5e5,1.5e5)\n",
    "ax[1][1].set_ylim(-1.5e5,1.5e5)\n",
    "\n",
    "plt.show()"
   ]
  },
  {
   "cell_type": "markdown",
   "id": "f93ffead",
   "metadata": {},
   "source": [
    "**(1.5 point) (h)** Now append the wiggle factor, call the above function for different times, and create a movie with $4$ panels showing how the first $4$ stationary states $\\Psi(x,t)$ evolve in time. Add a time stamp to the movies."
   ]
  },
  {
   "cell_type": "code",
   "execution_count": 22,
   "id": "daf0fd2e",
   "metadata": {
    "scrolled": false
   },
   "outputs": [],
   "source": [
    "for i in np.arange(0,5*4.3992935759667446e-16,4.3992935759667446e-18):\n",
    "    \n",
    "    y1 = psi_function(a, 1, x, i) # n=1\n",
    "    \n",
    "    y2 = psi_function(a, 2, x, i) # n=2\n",
    "\n",
    "    y3 = psi_function(a, 3, x, i) # n=3\n",
    "\n",
    "    y4 = psi_function(a, 4, x, i) # n=4\n",
    "    \n",
    "    fig, ax = plt.subplots(2,2, figsize=(10,6))\n",
    "\n",
    "    ax[0][0].plot(x, y1,  label = r'$\\psi_1$')\n",
    "    ax[0][1].plot(x, y2,  label = r'$\\psi_2$')\n",
    "    ax[1][0].plot(x, y3,  label = r'$\\psi_3$')\n",
    "    ax[1][1].plot(x, y4,  label = r'$\\psi_4$')\n",
    "\n",
    "    ax[0][0].legend()\n",
    "    ax[0][1].legend()\n",
    "    ax[1][0].legend()\n",
    "    ax[1][1].legend()\n",
    "\n",
    "    ax[0][0].set_xlim(0,2.e-10)\n",
    "    ax[0][1].set_xlim(0,2.e-10)\n",
    "    ax[1][0].set_xlim(0,2.e-10)\n",
    "    ax[1][1].set_xlim(0,2.e-10)\n",
    "\n",
    "    ax[0][0].set_ylim(-1.5e5,1.5e5)\n",
    "    ax[0][1].set_ylim(-1.5e5,1.5e5)\n",
    "    ax[1][0].set_ylim(-1.5e5,1.5e5)\n",
    "    ax[1][1].set_ylim(-1.5e5,1.5e5)\n",
    "    \n",
    "    j = i*1.e17\n",
    "\n",
    "    #plt.show()\n",
    "    plt.savefig(\"wave_functions{:03.3f}.png\".format(j))\n",
    "    plt.close()"
   ]
  },
  {
   "cell_type": "code",
   "execution_count": 23,
   "id": "51a5f1cc",
   "metadata": {},
   "outputs": [],
   "source": [
    "import glob\n",
    "from PIL import Image"
   ]
  },
  {
   "cell_type": "code",
   "execution_count": 24,
   "id": "e2b23ac0",
   "metadata": {},
   "outputs": [],
   "source": [
    "images_in = \"wave_functions**.png\"\n",
    "\n",
    "gif_image_out = \"wave_functions.gif\"\n",
    "\n",
    "imgs = (Image.open(f) for f in sorted(glob.glob(images_in)))\n",
    "\n",
    "img = next(imgs)\n",
    "\n",
    "img.save(fp = gif_image_out, format='GIF', append_images=imgs, save_all=True, duration=100, loop=0)"
   ]
  },
  {
   "cell_type": "code",
   "execution_count": null,
   "id": "a52d7c5b",
   "metadata": {},
   "outputs": [],
   "source": []
  },
  {
   "cell_type": "code",
   "execution_count": null,
   "id": "595b6138",
   "metadata": {},
   "outputs": [],
   "source": []
  },
  {
   "cell_type": "code",
   "execution_count": null,
   "id": "cc4f46ed",
   "metadata": {},
   "outputs": [],
   "source": []
  },
  {
   "cell_type": "code",
   "execution_count": null,
   "id": "0fbee96d",
   "metadata": {},
   "outputs": [],
   "source": []
  }
 ],
 "metadata": {
  "kernelspec": {
   "display_name": "Python 3 (ipykernel)",
   "language": "python",
   "name": "python3"
  },
  "language_info": {
   "codemirror_mode": {
    "name": "ipython",
    "version": 3
   },
   "file_extension": ".py",
   "mimetype": "text/x-python",
   "name": "python",
   "nbconvert_exporter": "python",
   "pygments_lexer": "ipython3",
   "version": "3.9.12"
  }
 },
 "nbformat": 4,
 "nbformat_minor": 5
}
