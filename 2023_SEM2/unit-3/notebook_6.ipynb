{
  "cells": [
    {
      "cell_type": "markdown",
      "metadata": {
        "id": "view-in-github",
        "colab_type": "text"
      },
      "source": [
        "<a href=\"https://colab.research.google.com/github/wbandabarragan/quantum-mechanics-1/blob/main/unit-3/notebook_6.ipynb\" target=\"_parent\"><img src=\"https://colab.research.google.com/assets/colab-badge.svg\" alt=\"Open In Colab\"/></a>"
      ]
    },
    {
      "cell_type": "markdown",
      "id": "db574934",
      "metadata": {
        "id": "db574934"
      },
      "source": [
        "\n",
        "## QM problem: Hamiltonian, eigenvalues and eigenvectors\n",
        "\n",
        "$$\\newcommand{\\ket}[1]{\\left|{#1}\\right\\rangle}$$\n",
        "$$\\newcommand{\\bra}[1]{\\left\\langle{#1}\\right|}$$\n",
        "$$\\newcommand{\\braket}[2]{\\left\\langle{#1}\\middle|{#2}\\right\\rangle}$$\n",
        "\n",
        "Consider a quantum system in a state, $\\ket{\\Psi}$:\n",
        "\n",
        "$\\Psi = \\frac{1}{\\sqrt{3}}\\left[\\begin{array}{@{}c@{}}\n",
        "    i \\\\\n",
        "    -i \\\\\n",
        "    i\n",
        "    \\end{array} \\right]$\n",
        "    \n",
        "The Hamiltonian is represented by the matrix shown below:\n",
        "\n",
        "\n",
        "$\\hat{H} = \\left[\\begin{array}{@{ }c@{\\kern2em} c@{\\kern2em} c@{ }}\n",
        "2 & 1 & 0\\\\\n",
        "1 & 2 & 0\\\\\n",
        "0 & 0 & 3\n",
        "\\end{array} \\right]$\n",
        "\n",
        "(a) Determine the eigenvalues and eigenvectors of $\\hat{H}$. What do the eigenvalues represent?\n",
        "\n",
        "\n",
        "(b) Which eigenvalue of $\\hat{H}$ is most likely to emerge from a measurement?\n",
        "\n",
        "\n",
        "(c) Find $\\langle H \\rangle$, $\\langle H^2 \\rangle$, and $\\sigma_H$.\n"
      ]
    },
    {
      "cell_type": "markdown",
      "id": "a07303bc",
      "metadata": {
        "id": "a07303bc"
      },
      "source": [
        "### Solution:\n",
        "\n",
        "(a) Determine the eigenvalues and eigenvectors of $\\hat{H}$. What do the eigenvalues represent?\n",
        "\n",
        "$\\hat{H} = \\left[\\begin{array}{@{ }c@{\\kern2em} c@{\\kern2em} c@{ }}\n",
        "2 & 1 & 0\\\\\n",
        "1 & 2 & 0\\\\\n",
        "0 & 0 & 3\n",
        "\\end{array} \\right]$"
      ]
    },
    {
      "cell_type": "code",
      "execution_count": null,
      "id": "96d30f5b",
      "metadata": {
        "id": "96d30f5b"
      },
      "outputs": [],
      "source": [
        "# Import our usual libraries\n",
        "import numpy as np"
      ]
    },
    {
      "cell_type": "code",
      "execution_count": null,
      "id": "1e09218f",
      "metadata": {
        "colab": {
          "base_uri": "https://localhost:8080/"
        },
        "id": "1e09218f",
        "outputId": "c6edd58a-ef29-4c6f-f0a4-796f7a21d4b1"
      },
      "outputs": [
        {
          "output_type": "stream",
          "name": "stdout",
          "text": [
            "Hamiltonian is:\n",
            " [[2. 1. 0.]\n",
            " [1. 2. 0.]\n",
            " [0. 0. 3.]]\n",
            "Size of the Hamiltonian:\n",
            " (3, 3)\n"
          ]
        }
      ],
      "source": [
        "# Define the matrix\n",
        "\n",
        "h_matrix = np.array([[2., 1., 0.]\\\n",
        "                   ,[1., 2., 0.]\\\n",
        "                   ,[0., 0., 3.]])\n",
        "\n",
        "print(\"Hamiltonian is:\\n\", h_matrix)\n",
        "\n",
        "print(\"Size of the Hamiltonian:\\n\", np.shape(h_matrix))"
      ]
    },
    {
      "cell_type": "code",
      "execution_count": null,
      "id": "8df4be17",
      "metadata": {
        "colab": {
          "base_uri": "https://localhost:8080/"
        },
        "id": "8df4be17",
        "outputId": "9ffc2c0c-d506-42c5-c3b1-d12fabc2aa45"
      },
      "outputs": [
        {
          "output_type": "stream",
          "name": "stdout",
          "text": [
            "Eigenvalues are:\n",
            " [3. 1. 3.]\n",
            "Eigenvectors are:\n",
            " [[ 0.70710678 -0.70710678  0.        ]\n",
            " [ 0.70710678  0.70710678  0.        ]\n",
            " [ 0.          0.          1.        ]]\n"
          ]
        }
      ],
      "source": [
        "# Let's use the eig() function\n",
        "\n",
        "w_eigenvalues, v_eigenvectors = np.linalg.eig(h_matrix)\n",
        "\n",
        "print(\"Eigenvalues are:\\n\", w_eigenvalues)\n",
        "\n",
        "print(\"Eigenvectors are:\\n\", v_eigenvectors)"
      ]
    },
    {
      "cell_type": "markdown",
      "id": "ed338d07",
      "metadata": {
        "id": "ed338d07"
      },
      "source": [
        "(b) Which eigenvalue of $\\hat{H}$ is most likely to emerge from a measurement?\n",
        "\n"
      ]
    },
    {
      "cell_type": "markdown",
      "id": "bedbbc4c",
      "metadata": {
        "id": "bedbbc4c"
      },
      "source": [
        "$\\Psi = \\frac{1}{\\sqrt{3}}\\left[\\begin{array}{@{}c@{}}\n",
        "    i \\\\\n",
        "    -i \\\\\n",
        "    i\n",
        "    \\end{array} \\right]$"
      ]
    },
    {
      "cell_type": "code",
      "execution_count": null,
      "id": "56d020e6",
      "metadata": {
        "colab": {
          "base_uri": "https://localhost:8080/"
        },
        "id": "56d020e6",
        "outputId": "5d36a623-af63-4444-a43b-8496568ae3de"
      },
      "outputs": [
        {
          "output_type": "stream",
          "name": "stdout",
          "text": [
            "[ 0.+0.57735027j -0.-0.57735027j  0.+0.57735027j]\n"
          ]
        }
      ],
      "source": [
        "# Define the state vector\n",
        "\n",
        "psi = np.array([1.j/np.sqrt(3), -1.j/np.sqrt(3), 1.j/np.sqrt(3)])\n",
        "\n",
        "print(psi)"
      ]
    },
    {
      "cell_type": "markdown",
      "id": "af2a5376",
      "metadata": {
        "id": "af2a5376"
      },
      "source": [
        "### Eigenvectors"
      ]
    },
    {
      "cell_type": "code",
      "execution_count": null,
      "id": "3bf40935",
      "metadata": {
        "colab": {
          "base_uri": "https://localhost:8080/"
        },
        "id": "3bf40935",
        "outputId": "6c4d2dc0-24d8-4c80-83ca-8dae18319ccb"
      },
      "outputs": [
        {
          "output_type": "stream",
          "name": "stdout",
          "text": [
            "[ 0.70710678 -0.70710678  0.        ]\n",
            "[0.70710678 0.70710678 0.        ]\n",
            "[0. 0. 1.]\n"
          ]
        }
      ],
      "source": [
        "vec_1 = v_eigenvectors[0]\n",
        "vec_2 = v_eigenvectors[1]\n",
        "vec_3 = v_eigenvectors[2]\n",
        "\n",
        "print(vec_1)\n",
        "print(vec_2)\n",
        "print(vec_3)"
      ]
    },
    {
      "cell_type": "markdown",
      "id": "9b1bd3a0",
      "metadata": {
        "id": "9b1bd3a0"
      },
      "source": [
        "$\\langle 1 |\\psi \\rangle$\n"
      ]
    },
    {
      "cell_type": "code",
      "execution_count": null,
      "id": "1af7e48b",
      "metadata": {
        "colab": {
          "base_uri": "https://localhost:8080/"
        },
        "id": "1af7e48b",
        "outputId": "233feaaa-9cd2-4cbd-8220-0d85456b71a0"
      },
      "outputs": [
        {
          "output_type": "stream",
          "name": "stdout",
          "text": [
            "0.6666666666666665 0.0 0.33333333333333337\n"
          ]
        }
      ],
      "source": [
        "# 1. option: Use @\n",
        "# 2. option: np.inner()\n",
        "# 3. option: np.dot\n",
        "\n",
        "p1 = np.dot(vec_1, psi)**2/np.dot(psi,psi)\n",
        "p2 = np.dot(vec_2, psi)**2/np.dot(psi,psi)\n",
        "p3 = np.dot(vec_3, psi)**2/np.dot(psi,psi)\n",
        "\n",
        "print(np.abs(p1), np.abs(p2), np.abs(p3))"
      ]
    },
    {
      "cell_type": "markdown",
      "id": "1cd42cb1",
      "metadata": {
        "id": "1cd42cb1"
      },
      "source": [
        "The most likely is $E_1 = 3$ for $\\ket{\\psi_1}=[ 0.70710678, -0.70710678 , 0.        ]$"
      ]
    },
    {
      "cell_type": "markdown",
      "id": "a3e69df8",
      "metadata": {
        "id": "a3e69df8"
      },
      "source": [
        "\n",
        "(c) Find $\\langle H \\rangle$, $\\langle H^2 \\rangle$, and $\\sigma_H$.\n",
        "\n",
        "\n",
        "$\\langle H \\rangle$ = $\\langle \\psi | H | \\psi \\rangle$"
      ]
    },
    {
      "cell_type": "code",
      "execution_count": null,
      "id": "ec041f7d",
      "metadata": {
        "colab": {
          "base_uri": "https://localhost:8080/"
        },
        "id": "ec041f7d",
        "outputId": "1685afb2-6505-4b01-f727-d79e189075f1"
      },
      "outputs": [
        {
          "output_type": "stream",
          "name": "stdout",
          "text": [
            "1.666666666666667\n"
          ]
        }
      ],
      "source": [
        "H_exp = np.dot(np.dot(np.conjugate(psi),h_matrix), psi.T)\n",
        "\n",
        "print(np.abs(H_exp))"
      ]
    },
    {
      "cell_type": "markdown",
      "id": "d30f2ba0",
      "metadata": {
        "id": "d30f2ba0"
      },
      "source": [
        "$\\langle H^2 \\rangle$ = $\\langle \\psi | H^2 | \\psi \\rangle$"
      ]
    },
    {
      "cell_type": "code",
      "execution_count": null,
      "id": "e614483c",
      "metadata": {
        "colab": {
          "base_uri": "https://localhost:8080/"
        },
        "id": "e614483c",
        "outputId": "5a15fd5d-8031-4306-ee38-2a88b4735530"
      },
      "outputs": [
        {
          "output_type": "stream",
          "name": "stdout",
          "text": [
            "3.666666666666668\n"
          ]
        }
      ],
      "source": [
        "H2_exp = np.dot(np.dot(np.conjugate(psi),h_matrix @ h_matrix)\\\n",
        "               , psi.T)\n",
        "\n",
        "print(np.abs(H2_exp))"
      ]
    },
    {
      "cell_type": "markdown",
      "id": "3ad7ba96",
      "metadata": {
        "id": "3ad7ba96"
      },
      "source": [
        "### Uncertianty:\n",
        "\n",
        "$\\sigma_H = \\sqrt{\\langle H^2 \\rangle - \\langle H\\rangle^2}$"
      ]
    },
    {
      "cell_type": "code",
      "execution_count": null,
      "id": "10404eda",
      "metadata": {
        "colab": {
          "base_uri": "https://localhost:8080/"
        },
        "id": "10404eda",
        "outputId": "08872969-497c-46c0-8d48-48127c65b2b7"
      },
      "outputs": [
        {
          "output_type": "stream",
          "name": "stdout",
          "text": [
            "sigma =  0.9428090415820636\n"
          ]
        }
      ],
      "source": [
        "# Get sigma\n",
        "print(\"sigma = \", np.sqrt(np.abs(H2_exp) - np.abs(H_exp)**2))"
      ]
    },
    {
      "cell_type": "code",
      "execution_count": null,
      "id": "9fea8147",
      "metadata": {
        "id": "9fea8147"
      },
      "outputs": [],
      "source": []
    }
  ],
  "metadata": {
    "kernelspec": {
      "display_name": "Python 3 (ipykernel)",
      "language": "python",
      "name": "python3"
    },
    "language_info": {
      "codemirror_mode": {
        "name": "ipython",
        "version": 3
      },
      "file_extension": ".py",
      "mimetype": "text/x-python",
      "name": "python",
      "nbconvert_exporter": "python",
      "pygments_lexer": "ipython3",
      "version": "3.7.16"
    },
    "colab": {
      "provenance": [],
      "include_colab_link": true
    }
  },
  "nbformat": 4,
  "nbformat_minor": 5
}