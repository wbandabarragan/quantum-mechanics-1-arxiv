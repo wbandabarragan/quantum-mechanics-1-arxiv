{
  "nbformat": 4,
  "nbformat_minor": 0,
  "metadata": {
    "colab": {
      "provenance": [],
      "authorship_tag": "ABX9TyP/brI0uAoIlxNfZWGS//Xs",
      "include_colab_link": true
    },
    "kernelspec": {
      "name": "python3",
      "display_name": "Python 3"
    },
    "language_info": {
      "name": "python"
    }
  },
  "cells": [
    {
      "cell_type": "markdown",
      "metadata": {
        "id": "view-in-github",
        "colab_type": "text"
      },
      "source": [
        "<a href=\"https://colab.research.google.com/github/wbandabarragan/quantum-mechanics-1/blob/main/python-resources/python_for_QM02.ipynb\" target=\"_parent\"><img src=\"https://colab.research.google.com/assets/colab-badge.svg\" alt=\"Open In Colab\"/></a>"
      ]
    },
    {
      "cell_type": "markdown",
      "source": [
        "# Tutorial 2: Python for Quantum Mechanics\n",
        "\n",
        "# Black body radiation:\n",
        "\n",
        "## Problem 1\n",
        "\n",
        "1. Write python functions to compute the spectral radiance of a body for different frequencies, $\\nu$, and different (absolute) temperatures, $T$, according to the Rayleigh-Jeans and the Planck laws.\n",
        "\n",
        "\n",
        "2. Add a label indicating the UV side of the spectrum.\n",
        "\n",
        "\n",
        "3. Now, make the plots of spectral radiance versus wavelength, also for both laws.\n",
        "\n",
        "\n",
        "4. Repeat the plot adding markers to show the expectation values according to Wien's displacement law for a couple of temperature-wavelength pairs."
      ],
      "metadata": {
        "id": "XbDrTy5FEPDX"
      }
    },
    {
      "cell_type": "code",
      "source": [
        "# Import libraries\n",
        "import numpy as np\n",
        "import matplotlib.pyplot as plt\n",
        "import scipy.constants as cte"
      ],
      "metadata": {
        "id": "dasrI0LAur3C"
      },
      "execution_count": 1,
      "outputs": []
    },
    {
      "cell_type": "markdown",
      "source": [
        "### Rayleigh-Jeans law (classical equation):\n",
        "\n",
        "$$B_{\\lambda}= \\frac{2ck_BT}{\\lambda^4} $$"
      ],
      "metadata": {
        "id": "ELCZIhcMEycm"
      }
    },
    {
      "cell_type": "code",
      "source": [
        "# CM law\n",
        "\n",
        "def rayleigh(lb, tb):\n",
        "  \"\"\"\n",
        "  This returns spectral radiances based on CM.\n",
        "  Inputs: lb -> lambda (wavelength)\n",
        "          tb -> temperature\n",
        "  Output: bl -> spectral radiance\n",
        "  \"\"\"\n",
        "\n",
        "  bl = (2*c*kb*tb)/(lb**4)\n",
        "\n",
        "  return bl\n",
        "\n"
      ],
      "metadata": {
        "id": "5eJhpGX7xkQa"
      },
      "execution_count": 2,
      "outputs": []
    },
    {
      "cell_type": "code",
      "source": [
        "# Physical constants\n",
        "\n",
        "c = cte.c # light speed\n",
        "kb = cte.k # Boltzmann constant\n",
        "\n",
        "#print(kb)\n"
      ],
      "metadata": {
        "id": "GNiZaypAyHPI"
      },
      "execution_count": 5,
      "outputs": []
    },
    {
      "cell_type": "code",
      "source": [
        "# Vectors for wavelengths and temp\n",
        "\n",
        "lb = np.arange(1.e-9, 5.e-6, 1.e-9) # in m\n",
        "\n",
        "# Fix the temperature\n",
        "tb = 5000. # in K"
      ],
      "metadata": {
        "id": "8KvRQytCyxB7"
      },
      "execution_count": 6,
      "outputs": []
    },
    {
      "cell_type": "code",
      "source": [
        "# Get the CM spectral radiance\n",
        "\n",
        "sr_cm = rayleigh(lb, tb)\n",
        "\n",
        "print(lb.shape, sr_cm.shape)"
      ],
      "metadata": {
        "colab": {
          "base_uri": "https://localhost:8080/"
        },
        "id": "IUuRGnC0ynMz",
        "outputId": "fdfe7491-ba19-46ff-f6e1-eb786d7716d0"
      },
      "execution_count": 19,
      "outputs": [
        {
          "output_type": "stream",
          "name": "stdout",
          "text": [
            "(4999,) (4999,)\n"
          ]
        }
      ]
    },
    {
      "cell_type": "code",
      "source": [
        "# Plotting the CM law:\n",
        "\n",
        "plt.figure(figsize=(6,5))\n",
        "\n",
        "plt.plot(lb, sr_cm, color = \"red\", linestyle = \"-.\", label =r\"$CM: 5000\\,\\rm K$\")\n",
        "\n",
        "plt.ylim(0, 5.e13)\n",
        "\n",
        "plt.xlabel(r\"$\\lambda$\")\n",
        "plt.ylabel(r\"$B_{\\lambda}$\")\n",
        "\n",
        "plt.legend()\n",
        "\n",
        "plt.show()\n",
        "\n"
      ],
      "metadata": {
        "colab": {
          "base_uri": "https://localhost:8080/",
          "height": 481
        },
        "id": "MLcc24_bzR-7",
        "outputId": "6bdc6a4e-2034-487d-adb8-9ee7949a9dd9"
      },
      "execution_count": 20,
      "outputs": [
        {
          "output_type": "display_data",
          "data": {
            "text/plain": [
              "<Figure size 600x500 with 1 Axes>"
            ],
            "image/png": "[encoded data removed]"
          },
          "metadata": {}
        }
      ]
    },
    {
      "cell_type": "markdown",
      "source": [
        "### Planck's law:\n",
        "\n",
        "$$B_\\lambda =\\frac{2hc^2}{\\lambda^5}\\frac 1{ \\exp\\left(\\frac{hc}{\\lambda k_\\mathrm B T}\\right) - 1}$$"
      ],
      "metadata": {
        "id": "1Sq2jFJfHmQz"
      }
    },
    {
      "cell_type": "code",
      "source": [
        "# Physical constant\n",
        "\n",
        "h = cte.h\n",
        "\n",
        "print(h)"
      ],
      "metadata": {
        "colab": {
          "base_uri": "https://localhost:8080/"
        },
        "id": "8tiLb90j0agm",
        "outputId": "6823953e-cbcf-48eb-9bbb-6a5efddbfb86"
      },
      "execution_count": 16,
      "outputs": [
        {
          "output_type": "stream",
          "name": "stdout",
          "text": [
            "6.62607015e-34\n"
          ]
        }
      ]
    },
    {
      "cell_type": "code",
      "source": [
        "# QM law\n",
        "\n",
        "def planck(lb, tb):\n",
        "  \"\"\"\n",
        "  This returns spectral radiances based on QM.\n",
        "  Inputs: lb -> lambda (wavelength)\n",
        "          tb -> temperature\n",
        "  Output: bl -> spectral radiance\n",
        "  \"\"\"\n",
        "\n",
        "  bl = ((2*h*c**2)/(lb**5))*(1./(np.exp(h*c/(lb*kb*tb))- 1.))\n",
        "\n",
        "  return bl"
      ],
      "metadata": {
        "id": "cCKzuNxJ0Na7"
      },
      "execution_count": 17,
      "outputs": []
    },
    {
      "cell_type": "code",
      "source": [
        "# Get the QM spectral radiance\n",
        "\n",
        "sr_qm = planck(lb, tb)\n",
        "\n",
        "print(lb.shape, sr_cm.shape)"
      ],
      "metadata": {
        "colab": {
          "base_uri": "https://localhost:8080/"
        },
        "id": "8Kz56GGN08lC",
        "outputId": "aabb13f3-56dd-4300-84d1-33f7b743eadf"
      },
      "execution_count": 21,
      "outputs": [
        {
          "output_type": "stream",
          "name": "stdout",
          "text": [
            "(4999,) (4999,)\n"
          ]
        },
        {
          "output_type": "stream",
          "name": "stderr",
          "text": [
            "<ipython-input-17-7802f07f6b64>:11: RuntimeWarning: overflow encountered in exp\n",
            "  bl = ((2*h*c**2)/(lb**5))*(1./(np.exp(h*c/(lb*kb*tb))- 1.))\n"
          ]
        }
      ]
    },
    {
      "cell_type": "code",
      "source": [
        "# Plotting the QM law:\n",
        "\n",
        "plt.figure(figsize=(6,5))\n",
        "\n",
        "plt.plot(lb, sr_qm, color = \"blue\", linestyle = \"--\", label =r\"$QM: 5000\\,\\rm K$\")\n",
        "\n",
        "plt.ylim(0, 2.e13)\n",
        "\n",
        "plt.xlabel(r\"$\\lambda$\")\n",
        "plt.ylabel(r\"$B_{\\lambda}$\")\n",
        "\n",
        "plt.legend()\n",
        "\n",
        "plt.show()"
      ],
      "metadata": {
        "colab": {
          "base_uri": "https://localhost:8080/",
          "height": 481
        },
        "id": "vJijv9nV1JOa",
        "outputId": "0643aff0-c7f0-4606-d63b-ab2b6b266743"
      },
      "execution_count": 28,
      "outputs": [
        {
          "output_type": "display_data",
          "data": {
            "text/plain": [
              "<Figure size 600x500 with 1 Axes>"
            ],
            "image/png": "[encoded data removed]"
          },
          "metadata": {}
        }
      ]
    },
    {
      "cell_type": "markdown",
      "source": [
        "### Comparison between CM and QM:"
      ],
      "metadata": {
        "id": "06TMh_1rIiqQ"
      }
    },
    {
      "cell_type": "code",
      "source": [
        "# Plotting the QM law:\n",
        "\n",
        "plt.figure(figsize=(6,5))\n",
        "\n",
        "plt.plot(lb, sr_cm, color = \"red\", linestyle = \"-.\", label =r\"$CM: 5000\\,\\rm K$\")\n",
        "plt.plot(lb, sr_qm, color = \"blue\", linestyle = \"--\", label =r\"$QM: 5000\\,\\rm K$\")\n",
        "\n",
        "plt.ylim(0, 2.e13)\n",
        "\n",
        "plt.xlabel(r\"$\\lambda$\")\n",
        "plt.ylabel(r\"$B_{\\lambda}$\")\n",
        "\n",
        "plt.legend()\n",
        "\n",
        "plt.show()"
      ],
      "metadata": {
        "colab": {
          "base_uri": "https://localhost:8080/",
          "height": 481
        },
        "id": "RaVSwjmB1UT0",
        "outputId": "24e0ded6-4661-41ed-a06e-af365f5d354b"
      },
      "execution_count": 30,
      "outputs": [
        {
          "output_type": "display_data",
          "data": {
            "text/plain": [
              "<Figure size 600x500 with 1 Axes>"
            ],
            "image/png": "[encoded data removed]"
          },
          "metadata": {}
        }
      ]
    },
    {
      "cell_type": "markdown",
      "source": [
        "# Wien's displacement:\n",
        "\n",
        "$$\\lambda_{\\rm peak} = \\frac{b}{T}$$\n",
        "\n",
        "where: $b = 2.898\\times 10^{-3}\\,\\rm K\\,m$"
      ],
      "metadata": {
        "id": "qt3DfUIoKqmq"
      }
    },
    {
      "cell_type": "code",
      "source": [
        "# Wiens function\n",
        "\n",
        "def wien(tb):\n",
        "  \"\"\"\n",
        "  This computes the peak wavelength for a given temperature.\n",
        "  Input: tb -> temperature\n",
        "  Output: l_peak\n",
        "  \"\"\"\n",
        "  l_peak = b/tb\n",
        "\n",
        "  return l_peak"
      ],
      "metadata": {
        "id": "FqOGx3lb18Uz"
      },
      "execution_count": 31,
      "outputs": []
    },
    {
      "cell_type": "code",
      "source": [
        "# Define Wien's constant\n",
        "\n",
        "b = cte.Wien\n",
        "print(b)"
      ],
      "metadata": {
        "colab": {
          "base_uri": "https://localhost:8080/"
        },
        "id": "kmahJ4Jv2nGN",
        "outputId": "8413c288-989f-4d6f-927a-9d4098dc0489"
      },
      "execution_count": 32,
      "outputs": [
        {
          "output_type": "stream",
          "name": "stdout",
          "text": [
            "0.002897771955\n"
          ]
        }
      ]
    },
    {
      "cell_type": "code",
      "source": [
        "# Call the Wien function\n",
        "\n",
        "l_peak = wien(tb)\n",
        "\n",
        "print(l_peak)\n",
        "\n",
        "\n",
        "# Use this lambda in Plancks law\n",
        "beta_peak = planck(l_peak, tb)\n",
        "\n",
        "print(beta_peak)"
      ],
      "metadata": {
        "colab": {
          "base_uri": "https://localhost:8080/"
        },
        "id": "b8UTpq2i2nJr",
        "outputId": "b10317f6-9cb1-4972-bd85-240897ed7be9"
      },
      "execution_count": 35,
      "outputs": [
        {
          "output_type": "stream",
          "name": "stdout",
          "text": [
            "5.79554391e-07\n",
            "12798983361978.945\n"
          ]
        }
      ]
    },
    {
      "cell_type": "code",
      "source": [
        "# Plotting the QM law:\n",
        "\n",
        "plt.figure(figsize=(6,5))\n",
        "\n",
        "plt.plot(lb, sr_cm, color = \"red\", linestyle = \"-.\", label =r\"$CM: 5000\\,\\rm K$\")\n",
        "plt.plot(lb, sr_qm, color = \"blue\", linestyle = \"--\", label =r\"$QM: 5000\\,\\rm K$\")\n",
        "plt.plot(l_peak, beta_peak, marker = \"o\", color = \"green\", label =\"Wien\")\n",
        "\n",
        "plt.ylim(0, 2.e13)\n",
        "\n",
        "plt.xlabel(r\"$\\lambda$\")\n",
        "plt.ylabel(r\"$B_{\\lambda}$\")\n",
        "\n",
        "plt.legend()\n",
        "\n",
        "plt.show()"
      ],
      "metadata": {
        "colab": {
          "base_uri": "https://localhost:8080/",
          "height": 481
        },
        "id": "cUpVlsof2nMl",
        "outputId": "97965a9b-1ee1-446c-ea96-b6f0eccc3803"
      },
      "execution_count": 37,
      "outputs": [
        {
          "output_type": "display_data",
          "data": {
            "text/plain": [
              "<Figure size 600x500 with 1 Axes>"
            ],
            "image/png": "[encoded data removed]"
          },
          "metadata": {}
        }
      ]
    },
    {
      "cell_type": "markdown",
      "source": [
        "## Problem 2 (statistical distributions):\n",
        "\n",
        "Imagine a room containing fourteen people, whose ages are as follows: one person aged 14, one person aged 15, three people aged 16, two people aged 22, two people aged 24, five people aged 25.\n",
        "\n",
        "(a) Compute $<j>^2$ and $<j^2>$.\n",
        "\n",
        "(b) Compute the $\\sigma_j=\\sqrt{<j^2> - <j>^2}$\n",
        "\n",
        "(c) Compute the standard deviation and compare with (b)."
      ],
      "metadata": {
        "id": "4bVR0xWgXIi5"
      }
    },
    {
      "cell_type": "code",
      "source": [
        "# a) Generating the sample\n",
        "\n",
        "sample = np.array([14, 15, 16, 16, 16, 22, 22, 24, 24, 25, 25, 25, 25, 25])\n",
        "\n",
        "print(len(sample))"
      ],
      "metadata": {
        "colab": {
          "base_uri": "https://localhost:8080/"
        },
        "id": "6kS6wuOm4kpL",
        "outputId": "692e1992-e4c5-461b-ef49-ca4cef6ec2c6"
      },
      "execution_count": 39,
      "outputs": [
        {
          "output_type": "stream",
          "name": "stdout",
          "text": [
            "14\n"
          ]
        }
      ]
    },
    {
      "cell_type": "code",
      "source": [
        "# Distribution -> histogram\n",
        "\n",
        "plt.hist(sample, bins = 12, histtype = \"step\")"
      ],
      "metadata": {
        "colab": {
          "base_uri": "https://localhost:8080/",
          "height": 517
        },
        "id": "0KU6jTYv49OH",
        "outputId": "d48c02aa-a98e-41a5-c2e9-d7cc310fd6b8"
      },
      "execution_count": 42,
      "outputs": [
        {
          "output_type": "execute_result",
          "data": {
            "text/plain": [
              "(array([1., 1., 3., 0., 0., 0., 0., 0., 2., 0., 2., 5.]),\n",
              " array([14.        , 14.91666667, 15.83333333, 16.75      , 17.66666667,\n",
              "        18.58333333, 19.5       , 20.41666667, 21.33333333, 22.25      ,\n",
              "        23.16666667, 24.08333333, 25.        ]),\n",
              " [<matplotlib.patches.Polygon at 0x782f469a1c60>])"
            ]
          },
          "metadata": {},
          "execution_count": 42
        },
        {
          "output_type": "display_data",
          "data": {
            "text/plain": [
              "<Figure size 640x480 with 1 Axes>"
            ],
            "image/png": "[encoded data removed]"
          },
          "metadata": {}
        }
      ]
    },
    {
      "cell_type": "markdown",
      "source": [
        "### Average:"
      ],
      "metadata": {
        "id": "OBOEy03pXnGR"
      }
    },
    {
      "cell_type": "code",
      "source": [
        "av_sample = np.mean(sample)\n",
        "\n",
        "print(\"The average age is: \", av_sample)"
      ],
      "metadata": {
        "colab": {
          "base_uri": "https://localhost:8080/"
        },
        "id": "4oCcf1Jp4awm",
        "outputId": "ac01dc83-6a10-4f2c-d0ac-07f357794b9b"
      },
      "execution_count": 44,
      "outputs": [
        {
          "output_type": "stream",
          "name": "stdout",
          "text": [
            "The average age is:  21.0\n"
          ]
        }
      ]
    },
    {
      "cell_type": "markdown",
      "source": [
        "### Average of the square:"
      ],
      "metadata": {
        "id": "DHVT2FdSXza_"
      }
    },
    {
      "cell_type": "code",
      "source": [
        "# RMS:\n",
        "sqrav_sample = np.mean(sample**2)\n",
        "\n",
        "print(\"The average pof the squared ages is: \", sqrav_sample)"
      ],
      "metadata": {
        "colab": {
          "base_uri": "https://localhost:8080/"
        },
        "id": "NQguVGe05j9c",
        "outputId": "cde8e870-a136-4811-e137-b97e8b700c25"
      },
      "execution_count": 46,
      "outputs": [
        {
          "output_type": "stream",
          "name": "stdout",
          "text": [
            "The average pof the squared ages is:  459.57142857142856\n"
          ]
        }
      ]
    },
    {
      "cell_type": "markdown",
      "source": [
        "### Standard deviation with formula:\n",
        "\n",
        "$\\sigma_j=\\sqrt{<j^2> - <j>^2}$"
      ],
      "metadata": {
        "id": "YMkEYZkoX2X3"
      }
    },
    {
      "cell_type": "code",
      "source": [
        "# Get sigma from the formula:\n",
        "\n",
        "sigma_sample_v1 = np.sqrt(sqrav_sample - av_sample**2)\n",
        "\n",
        "print(\"Sigma from the formula is: \", sigma_sample_v1)\n"
      ],
      "metadata": {
        "colab": {
          "base_uri": "https://localhost:8080/"
        },
        "id": "8vbxrtKS53x0",
        "outputId": "3d72993b-58f3-4ffc-9e9b-a631577db7a6"
      },
      "execution_count": 48,
      "outputs": [
        {
          "output_type": "stream",
          "name": "stdout",
          "text": [
            "Sigma from the formula is:  4.309458036856672\n"
          ]
        }
      ]
    },
    {
      "cell_type": "markdown",
      "source": [
        "### Standard deviation with Numpy:"
      ],
      "metadata": {
        "id": "S7MRKphYX6KH"
      }
    },
    {
      "cell_type": "code",
      "source": [
        "sigma_sample_v2 = np.std(sample)\n",
        "\n",
        "print(\"Sigma from numpy is: \", sigma_sample_v2)"
      ],
      "metadata": {
        "id": "oOZpHVbqXvFs",
        "colab": {
          "base_uri": "https://localhost:8080/"
        },
        "outputId": "70ef305c-a56b-412a-d92a-df29f18cadf5"
      },
      "execution_count": 49,
      "outputs": [
        {
          "output_type": "stream",
          "name": "stdout",
          "text": [
            "Sigma from numpy is:  4.3094580368566735\n"
          ]
        }
      ]
    },
    {
      "cell_type": "markdown",
      "source": [
        "# Normal distro:\n",
        "\n",
        "$$N(\\mu, \\sigma)$$"
      ],
      "metadata": {
        "id": "zuMU4oaS6baT"
      }
    },
    {
      "cell_type": "code",
      "source": [
        "mu_1 = 0 # mean\n",
        "sigma_1 = 0.1 # std\n",
        "\n",
        "n_1 = np.random.normal(mu_1, sigma_1, 10000)\n",
        "\n",
        "print(n_1.shape)"
      ],
      "metadata": {
        "colab": {
          "base_uri": "https://localhost:8080/"
        },
        "id": "ZyQCF_J86R8W",
        "outputId": "6310a5ee-1458-456a-842b-23cbdf73e1cf"
      },
      "execution_count": 56,
      "outputs": [
        {
          "output_type": "stream",
          "name": "stdout",
          "text": [
            "(10000,)\n"
          ]
        }
      ]
    },
    {
      "cell_type": "code",
      "source": [
        "# Distribution -> histogram\n",
        "\n",
        "plt.hist(n_1, bins = 20, histtype = \"step\")"
      ],
      "metadata": {
        "colab": {
          "base_uri": "https://localhost:8080/",
          "height": 586
        },
        "id": "eVny5l1m62x6",
        "outputId": "3f079690-7e60-474a-a1a9-12e29247bbdf"
      },
      "execution_count": 57,
      "outputs": [
        {
          "output_type": "execute_result",
          "data": {
            "text/plain": [
              "(array([   4.,   21.,   30.,  111.,  241.,  464.,  750., 1129., 1434.,\n",
              "        1505., 1446., 1167.,  797.,  461.,  256.,  120.,   46.,   12.,\n",
              "           4.,    2.]),\n",
              " array([-0.36683564, -0.32835215, -0.28986866, -0.25138518, -0.21290169,\n",
              "        -0.17441821, -0.13593472, -0.09745124, -0.05896775, -0.02048427,\n",
              "         0.01799922,  0.0564827 ,  0.09496619,  0.13344968,  0.17193316,\n",
              "         0.21041665,  0.24890013,  0.28738362,  0.3258671 ,  0.36435059,\n",
              "         0.40283407]),\n",
              " [<matplotlib.patches.Polygon at 0x782f44790e80>])"
            ]
          },
          "metadata": {},
          "execution_count": 57
        },
        {
          "output_type": "display_data",
          "data": {
            "text/plain": [
              "<Figure size 640x480 with 1 Axes>"
            ],
            "image/png": "[encoded data removed]"
          },
          "metadata": {}
        }
      ]
    },
    {
      "cell_type": "code",
      "source": [
        "av_n1 = np.mean(n_1)\n",
        "st_n1 = np.std(n_1)\n",
        "\n",
        "print(\"The average is: \", av_n1)\n",
        "print(\"The std. dev. is: \", st_n1 )"
      ],
      "metadata": {
        "colab": {
          "base_uri": "https://localhost:8080/"
        },
        "id": "TZpflQCj69Nk",
        "outputId": "85d6e1f3-0dcb-4d23-cd45-f29b8e1abe2a"
      },
      "execution_count": 58,
      "outputs": [
        {
          "output_type": "stream",
          "name": "stdout",
          "text": [
            "The average is:  0.0002720741116564702\n",
            "The std. dev. is:  0.09997816893717759\n"
          ]
        }
      ]
    },
    {
      "cell_type": "code",
      "source": [],
      "metadata": {
        "id": "2wSW16F67JcN"
      },
      "execution_count": null,
      "outputs": []
    }
  ]
}