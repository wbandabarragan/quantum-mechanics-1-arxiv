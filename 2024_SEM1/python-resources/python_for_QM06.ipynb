{
  "cells": [
    {
      "cell_type": "markdown",
      "metadata": {
        "id": "view-in-github",
        "colab_type": "text"
      },
      "source": [
        "<a href=\"https://colab.research.google.com/github/wbandabarragan/quantum-mechanics-1/blob/main/python-resources/python_for_QM06.ipynb\" target=\"_parent\"><img src=\"https://colab.research.google.com/assets/colab-badge.svg\" alt=\"Open In Colab\"/></a>"
      ]
    },
    {
      "cell_type": "markdown",
      "source": [
        "# Tutorial 6: Python for Quantum Mechanics\n",
        "\n",
        "## Finite square well potential:\n",
        "\n",
        "In class, we studied the finite square well potential problem. When looking into the even solutions and applying boundary conditions, we found a transcendental equation for $z=la$:\n",
        "\n",
        "$\\tan(z) = \\sqrt{\\left(\\frac{z_0}{z}\\right)^2 - 1}$\n",
        "\n",
        "where $a$ is the half-width of the potential $V(x)=-V_0$ between $x=-a$ and $x=+a$:\n",
        "\n",
        "$z_0 = \\frac{a}{\\hbar}\\sqrt{2\\,m\\,V_0}$,\n",
        "\n",
        "andthe wavenumber inside the well is:\n",
        "\n",
        "$l = \\frac{\\sqrt{2\\,m(E+V_0)}}{\\hbar}$\n",
        "\n",
        "\n",
        "**Task: Solve the above transcendetal equation using python optimisation tools and display the results for several $z_0$.**"
      ],
      "metadata": {
        "id": "sZdLW8o1Q4Ep"
      },
      "id": "sZdLW8o1Q4Ep"
    },
    {
      "cell_type": "code",
      "source": [
        "# Import libraries\n",
        "\n",
        "import numpy as np\n",
        "import matplotlib.pyplot as plt\n",
        "import scipy.optimize as opt # Important library to solve our t. eq."
      ],
      "metadata": {
        "id": "q6Opu1UjReLX"
      },
      "id": "q6Opu1UjReLX",
      "execution_count": 2,
      "outputs": []
    },
    {
      "cell_type": "code",
      "source": [
        "# Fix z_0\n",
        "z0 = 8\n",
        "\n",
        "# Vector for z\n",
        "z = np.arange(0., 10*np.pi, 0.001)"
      ],
      "metadata": {
        "id": "4GzCrp9IRrPH"
      },
      "id": "4GzCrp9IRrPH",
      "execution_count": 3,
      "outputs": []
    },
    {
      "cell_type": "markdown",
      "source": [
        "$\\tan(z) = \\sqrt{\\left(\\frac{z_0}{z}\\right)^2 - 1}$"
      ],
      "metadata": {
        "id": "chmlRiuKSDQh"
      },
      "id": "chmlRiuKSDQh"
    },
    {
      "cell_type": "code",
      "source": [
        "# Tangent\n",
        "y_lhs = np.tan(z)\n",
        "\n",
        "# Sqrt\n",
        "y_rhs = np.sqrt((z0**2/z**2) - 1.)"
      ],
      "metadata": {
        "colab": {
          "base_uri": "https://localhost:8080/"
        },
        "id": "eFr9zK7GR95a",
        "outputId": "5830a14c-33ab-4796-8308-2c0eeace7982"
      },
      "id": "eFr9zK7GR95a",
      "execution_count": 5,
      "outputs": [
        {
          "output_type": "stream",
          "name": "stderr",
          "text": [
            "<ipython-input-5-215572e20728>:5: RuntimeWarning: divide by zero encountered in divide\n",
            "  y_rhs = np.sqrt((z0**2/z**2) - 1.)\n",
            "<ipython-input-5-215572e20728>:5: RuntimeWarning: invalid value encountered in sqrt\n",
            "  y_rhs = np.sqrt((z0**2/z**2) - 1.)\n"
          ]
        }
      ]
    },
    {
      "cell_type": "code",
      "source": [
        "# Remove the large values for the tangent\n",
        "\n",
        "y_lhs[y_lhs > +4*z0] = np.nan\n",
        "y_lhs[y_lhs < -4*z0] = np.nan"
      ],
      "metadata": {
        "id": "51Hdn95wS4u1"
      },
      "id": "51Hdn95wS4u1",
      "execution_count": 9,
      "outputs": []
    },
    {
      "cell_type": "code",
      "source": [
        "# Plotting\n",
        "\n",
        "plt.figure(figsize= (4,3))\n",
        "\n",
        "plt.plot(z, y_lhs, c= 'red')\n",
        "plt.plot(z, y_rhs, c = 'blue')\n",
        "\n",
        "plt.xlim(0, z0+1)\n",
        "plt.ylim(0, 3*z0)\n",
        "\n",
        "plt.xlabel(r\"$z$\")\n",
        "\n",
        "plt.show()"
      ],
      "metadata": {
        "colab": {
          "base_uri": "https://localhost:8080/",
          "height": 311
        },
        "id": "MnyJ2JfySOcQ",
        "outputId": "39b18d92-b046-4756-86bd-987cfd770715"
      },
      "id": "MnyJ2JfySOcQ",
      "execution_count": 12,
      "outputs": [
        {
          "output_type": "display_data",
          "data": {
            "text/plain": [
              "<Figure size 400x300 with 1 Axes>"
            ],
            "image/png": "[encoded data removed]"
          },
          "metadata": {}
        }
      ]
    },
    {
      "cell_type": "markdown",
      "source": [
        "### Solve the equation numerically:\n",
        "\n",
        "\n",
        "$\\frac{\\tan(z)}{\\sqrt{\\left(\\frac{z_0}{z}\\right)^2 - 1}} - 1= 0$"
      ],
      "metadata": {
        "id": "9bwCGCx2Tg2Y"
      },
      "id": "9bwCGCx2Tg2Y"
    },
    {
      "cell_type": "code",
      "source": [
        "# Objective function to be optimised\n",
        "\n",
        "def obj_function(z, z0):\n",
        "  \"\"\"\n",
        "  Objective function.\n",
        "  \"\"\"\n",
        "  opt_func = np.tan(z)/(np.sqrt((z0/z)**2 - 1.)) - 1.\n",
        "\n",
        "  return opt_func\n"
      ],
      "metadata": {
        "id": "iHiXrY7qSiLe"
      },
      "id": "iHiXrY7qSiLe",
      "execution_count": 14,
      "outputs": []
    },
    {
      "cell_type": "code",
      "source": [
        "# Find the z for which the LHS and RHS are the same\n",
        "\n",
        "result = opt.root(obj_function, [1., 4., 7.], args = z0)\n",
        "\n",
        "print(result.x)"
      ],
      "metadata": {
        "colab": {
          "base_uri": "https://localhost:8080/"
        },
        "id": "99a5lWHlT-FE",
        "outputId": "1232f67e-f560-4a3f-cf4b-0228b2fbdf32"
      },
      "id": "99a5lWHlT-FE",
      "execution_count": 16,
      "outputs": [
        {
          "output_type": "stream",
          "name": "stdout",
          "text": [
            "[1.39546614 4.16483091 6.83067433]\n"
          ]
        }
      ]
    },
    {
      "cell_type": "code",
      "source": [
        "# Tangent for each point\n",
        "\n",
        "y0 = np.tan(result.x[0])\n",
        "y1 = np.tan(result.x[1])\n",
        "y2 = np.tan(result.x[2])"
      ],
      "metadata": {
        "id": "A7DS-QdjUTUM"
      },
      "id": "A7DS-QdjUTUM",
      "execution_count": 17,
      "outputs": []
    },
    {
      "cell_type": "code",
      "source": [
        "# Plotting\n",
        "\n",
        "plt.figure(figsize= (4,3))\n",
        "\n",
        "plt.plot(z, y_lhs, c= 'red')\n",
        "plt.plot(z, y_rhs, c = 'blue')\n",
        "\n",
        "plt.plot(result.x[0], y0, marker = \"o\", c = 'green')\n",
        "plt.plot(result.x[1], y1, marker = \"o\", c = 'green')\n",
        "plt.plot(result.x[2], y2, marker = \"o\", c = 'green')\n",
        "\n",
        "plt.xlim(0, z0+1)\n",
        "plt.ylim(0, 3*z0)\n",
        "\n",
        "plt.xlabel(r\"$z$\")\n",
        "\n",
        "plt.show()"
      ],
      "metadata": {
        "colab": {
          "base_uri": "https://localhost:8080/",
          "height": 311
        },
        "id": "Rxtcf_54Ultr",
        "outputId": "5f69fd21-6165-4b52-9230-9b7aeffbef8a"
      },
      "id": "Rxtcf_54Ultr",
      "execution_count": 19,
      "outputs": [
        {
          "output_type": "display_data",
          "data": {
            "text/plain": [
              "<Figure size 400x300 with 1 Axes>"
            ],
            "image/png": "[encoded data removed]"
          },
          "metadata": {}
        }
      ]
    },
    {
      "cell_type": "code",
      "source": [],
      "metadata": {
        "id": "XoEMj33MUpcl"
      },
      "id": "XoEMj33MUpcl",
      "execution_count": null,
      "outputs": []
    }
  ],
  "metadata": {
    "kernelspec": {
      "display_name": "Python 3 (ipykernel)",
      "language": "python",
      "name": "python3"
    },
    "language_info": {
      "codemirror_mode": {
        "name": "ipython",
        "version": 3
      },
      "file_extension": ".py",
      "mimetype": "text/x-python",
      "name": "python",
      "nbconvert_exporter": "python",
      "pygments_lexer": "ipython3",
      "version": "3.7.13"
    },
    "colab": {
      "provenance": [],
      "include_colab_link": true
    }
  },
  "nbformat": 4,
  "nbformat_minor": 5
}