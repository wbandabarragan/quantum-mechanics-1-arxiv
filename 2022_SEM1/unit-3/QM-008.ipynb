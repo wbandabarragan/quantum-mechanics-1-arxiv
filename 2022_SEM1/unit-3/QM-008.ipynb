{
 "cells": [
  {
   "cell_type": "markdown",
   "id": "372c55b9",
   "metadata": {},
   "source": [
    "### Problem 3 of Quiz 3:"
   ]
  },
  {
   "cell_type": "markdown",
   "id": "1c5ba7d8",
   "metadata": {},
   "source": [
    "### Using native python functions:"
   ]
  },
  {
   "cell_type": "code",
   "execution_count": 1,
   "id": "3a396923",
   "metadata": {},
   "outputs": [
    {
     "name": "stdout",
     "output_type": "stream",
     "text": [
      "(4+3j)\n"
     ]
    }
   ],
   "source": [
    "z = 4 + 3j\n",
    "\n",
    "print(z)"
   ]
  },
  {
   "cell_type": "code",
   "execution_count": 2,
   "id": "24c75f17",
   "metadata": {},
   "outputs": [
    {
     "name": "stdout",
     "output_type": "stream",
     "text": [
      "2.5\n"
     ]
    }
   ],
   "source": [
    "sigma_ab = abs(1/2j*z)\n",
    "\n",
    "print(sigma_ab)"
   ]
  },
  {
   "cell_type": "markdown",
   "id": "d70d22a3",
   "metadata": {},
   "source": [
    "### Using sympy functions:"
   ]
  },
  {
   "cell_type": "code",
   "execution_count": 3,
   "id": "a8e63d71",
   "metadata": {},
   "outputs": [],
   "source": [
    "from sympy import *"
   ]
  },
  {
   "cell_type": "code",
   "execution_count": 4,
   "id": "59838103",
   "metadata": {},
   "outputs": [
    {
     "name": "stdout",
     "output_type": "stream",
     "text": [
      "2.5*Abs(x)\n"
     ]
    }
   ],
   "source": [
    "x = symbols('x', real=True)\n",
    "\n",
    "z = 4*x + 3*I*x\n",
    "\n",
    "result = abs(1/2j*z)\n",
    "\n",
    "print(result)"
   ]
  }
 ],
 "metadata": {
  "kernelspec": {
   "display_name": "Python 3",
   "language": "python",
   "name": "python3"
  },
  "language_info": {
   "codemirror_mode": {
    "name": "ipython",
    "version": 3
   },
   "file_extension": ".py",
   "mimetype": "text/x-python",
   "name": "python",
   "nbconvert_exporter": "python",
   "pygments_lexer": "ipython3",
   "version": "3.7.10"
  }
 },
 "nbformat": 4,
 "nbformat_minor": 5
}
