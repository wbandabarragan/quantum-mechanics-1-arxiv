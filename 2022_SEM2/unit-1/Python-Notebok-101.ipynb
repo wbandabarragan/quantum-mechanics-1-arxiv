{
 "cells": [
  {
   "cell_type": "markdown",
   "metadata": {
    "id": "6QUR0Li8p4Nu"
   },
   "source": [
    "# Introduction to Python for Quantum Mechanics"
   ]
  },
  {
   "cell_type": "markdown",
   "metadata": {
    "id": "qXglqra2qDZm"
   },
   "source": [
    "### 1. Check where you are, you can use bash commands in a jupyter notebook with ! e.g."
   ]
  },
  {
   "cell_type": "code",
   "execution_count": 1,
   "metadata": {
    "colab": {
     "base_uri": "https://localhost:8080/"
    },
    "id": "kSo2zg3tp_SC",
    "outputId": "137b2f09-824c-4c3e-f19f-69f2c5eac856"
   },
   "outputs": [
    {
     "name": "stdout",
     "output_type": "stream",
     "text": [
      "/content\n"
     ]
    }
   ],
   "source": [
    "!pwd"
   ]
  },
  {
   "cell_type": "markdown",
   "metadata": {
    "id": "sOaON3BUqg9B"
   },
   "source": [
    "### 2. Check python version:"
   ]
  },
  {
   "cell_type": "code",
   "execution_count": 2,
   "metadata": {
    "colab": {
     "base_uri": "https://localhost:8080/"
    },
    "id": "55pLblooqKI4",
    "outputId": "1b12bfa8-3e5b-4540-b243-5de06a54ac6e"
   },
   "outputs": [
    {
     "name": "stdout",
     "output_type": "stream",
     "text": [
      "Python 3.7.15\n"
     ]
    }
   ],
   "source": [
    "!python --version"
   ]
  },
  {
   "cell_type": "markdown",
   "metadata": {
    "id": "TKzEAqyorkKi"
   },
   "source": [
    "### 3. Now, let's import a few libraries, there should be no errors"
   ]
  },
  {
   "cell_type": "code",
   "execution_count": 3,
   "metadata": {
    "id": "DnfjjFacqlU5"
   },
   "outputs": [],
   "source": [
    "# Importing libraries\n",
    "\n",
    "import numpy as np\n",
    "import scipy as sc\n",
    "import matplotlib.pyplot as plt\n"
   ]
  },
  {
   "cell_type": "markdown",
   "metadata": {
    "id": "9FxyzFApsUXa"
   },
   "source": [
    "### 4. Now, let's make a simple plot:"
   ]
  },
  {
   "cell_type": "code",
   "execution_count": 4,
   "metadata": {
    "id": "_YDnl_Zmr37A"
   },
   "outputs": [],
   "source": [
    "# Add matplotlib inline to see plots on screen\n",
    "\n",
    "%matplotlib inline"
   ]
  },
  {
   "cell_type": "markdown",
   "metadata": {
    "id": "9qieD4V6sq8K"
   },
   "source": [
    "### 5. Let's plot y=sin(x):"
   ]
  },
  {
   "cell_type": "code",
   "execution_count": 9,
   "metadata": {
    "id": "UntAZ0v3stdP"
   },
   "outputs": [],
   "source": [
    "# Define a Grid\n",
    "# The x-axis\n",
    "\n",
    "x_axis = np.arange(-2*np.pi, +2*np.pi, 0.1)\n",
    "\n",
    "# Documentation: https://numpy.org/doc/stable/reference/generated/numpy.arange.html\n",
    "\n",
    "#print(x_axis)\n",
    "#print(x_axis.shape)\n"
   ]
  },
  {
   "cell_type": "code",
   "execution_count": 12,
   "metadata": {
    "id": "bIipQzfHtZsU"
   },
   "outputs": [],
   "source": [
    "# The y_axis:\n",
    "\n",
    "y_axis = np.sin(x_axis)\n",
    "\n",
    "#print(x_axis.shape)\n",
    "#print(y_axis.shape)"
   ]
  },
  {
   "cell_type": "markdown",
   "metadata": {
    "id": "7_KNr73luD_f"
   },
   "source": [
    "### Plot with matplotlib.pyplot (plt):"
   ]
  },
  {
   "cell_type": "code",
   "execution_count": 13,
   "metadata": {
    "colab": {
     "base_uri": "https://localhost:8080/",
     "height": 282
    },
    "id": "qtWvvodOuFqa",
    "outputId": "8af6b783-1a5e-4c22-f155-f0d11b554097"
   },
   "outputs": [
    {
     "data": {
      "text/plain": [
       "[<matplotlib.lines.Line2D at 0x7fb8fbd5fe10>]"
      ]
     },
     "execution_count": 13,
     "metadata": {},
     "output_type": "execute_result"
    },
    {
     "data": {
      "image/png": "[encoded data removed]",
      "text/plain": [
       "<Figure size 432x288 with 1 Axes>"
      ]
     },
     "metadata": {
      "needs_background": "light"
     },
     "output_type": "display_data"
    }
   ],
   "source": [
    "plt.plot(x_axis, y_axis)"
   ]
  },
  {
   "cell_type": "markdown",
   "metadata": {
    "id": "tF7DuRo0umXn"
   },
   "source": [
    "## **6. Problem (statistical distributions)**\n",
    "\n",
    "Imagine a room containing fourteen people, whose ages are as follows: one person aged 14, one person aged 15, three people aged 16, two people aged 22, two people aged 24, five people aged 25.\n",
    "\n",
    "Age is represented by $j$:\n",
    "\n",
    "(a) Make a histogram.\n",
    "\n",
    "(b) Compute $<j>^2$ and $<j^2>$.\n",
    "\n",
    "(c) Compute the $\\sigma_j=\\sqrt{<j^2> - <j>^2}$\n",
    "\n",
    "(d) Compute the standard deviation using python function and compare with (b)."
   ]
  },
  {
   "cell_type": "code",
   "execution_count": 18,
   "metadata": {
    "id": "_HqY-tMouMfF"
   },
   "outputs": [],
   "source": [
    "# Documentation: https://numpy.org/doc/stable/reference/generated/numpy.array.html\n",
    "\n",
    "sample_j = np.array([14, 15, 16, 16, 16, 22, 22, 24, 24, 25, 25, 25, 25, 25])\n",
    "\n",
    "#print(sample_j.shape)\n",
    "#print(sample_j)"
   ]
  },
  {
   "cell_type": "markdown",
   "metadata": {
    "id": "XASDAsCtwCuv"
   },
   "source": [
    "### a) Histogram:"
   ]
  },
  {
   "cell_type": "code",
   "execution_count": 23,
   "metadata": {
    "colab": {
     "base_uri": "https://localhost:8080/",
     "height": 317
    },
    "id": "rnJgcw0DvdlS",
    "outputId": "18ef07d6-ffe1-45f2-aa21-2bbeb51e20d3"
   },
   "outputs": [
    {
     "data": {
      "text/plain": [
       "(array([1., 1., 3., 0., 0., 0., 2., 0., 2., 5.]),\n",
       " array([13. , 14.3, 15.6, 16.9, 18.2, 19.5, 20.8, 22.1, 23.4, 24.7, 26. ]),\n",
       " <a list of 1 Patch objects>)"
      ]
     },
     "execution_count": 23,
     "metadata": {},
     "output_type": "execute_result"
    },
    {
     "data": {
      "image/png": "[encoded data removed]",
      "text/plain": [
       "<Figure size 432x288 with 1 Axes>"
      ]
     },
     "metadata": {
      "needs_background": "light"
     },
     "output_type": "display_data"
    }
   ],
   "source": [
    "plt.hist(sample_j, bins = 10, range=(13, 26), histtype = 'step')"
   ]
  },
  {
   "cell_type": "code",
   "execution_count": 37,
   "metadata": {
    "colab": {
     "base_uri": "https://localhost:8080/",
     "height": 388
    },
    "id": "8ICS4BedzmAY",
    "outputId": "3c4879f8-0260-4513-f122-7a4d8c612c10"
   },
   "outputs": [
    {
     "data": {
      "image/png": "[encoded data removed]",
      "text/plain": [
       "<Figure size 576x432 with 1 Axes>"
      ]
     },
     "metadata": {
      "needs_background": "light"
     },
     "output_type": "display_data"
    }
   ],
   "source": [
    "plt.figure(figsize=(8,6))\n",
    "\n",
    "plt.hist(sample_j, bins = 10, range=(13, 26), histtype = 'step', label = \"sample histogram\")\n",
    "\n",
    "plt.xlabel(\"Age (yr)\")\n",
    "plt.ylabel(\"Count\")\n",
    "\n",
    "plt.legend(loc=2)\n",
    "\n",
    "plt.show()"
   ]
  },
  {
   "cell_type": "markdown",
   "metadata": {
    "id": "U0jECG9yxFYP"
   },
   "source": [
    "(b) Compute $<j>^2$ and $<j^2>$."
   ]
  },
  {
   "cell_type": "code",
   "execution_count": 27,
   "metadata": {
    "colab": {
     "base_uri": "https://localhost:8080/"
    },
    "id": "a2D3mBdrwbIF",
    "outputId": "88c94d93-c953-4785-adff-4c2ad89041aa"
   },
   "outputs": [
    {
     "name": "stdout",
     "output_type": "stream",
     "text": [
      "average squared is: 441.0\n"
     ]
    }
   ],
   "source": [
    "# Expectation value of j:\n",
    "\n",
    "av_sample_j = np.mean(sample_j)\n",
    "\n",
    "print(\"average squared is:\", av_sample_j**2)"
   ]
  },
  {
   "cell_type": "code",
   "execution_count": 26,
   "metadata": {
    "colab": {
     "base_uri": "https://localhost:8080/"
    },
    "id": "rqrh-QKUxQoy",
    "outputId": "eec46d4a-6645-4058-8659-5ddb206fc47e"
   },
   "outputs": [
    {
     "name": "stdout",
     "output_type": "stream",
     "text": [
      "sqr-average is: 459.57142857142856\n"
     ]
    }
   ],
   "source": [
    "# Expectation value of j^2:\n",
    "\n",
    "sqrav_sample_j = np.mean(sample_j**2)\n",
    "\n",
    "print(\"sqr-average is:\", sqrav_sample_j)"
   ]
  },
  {
   "cell_type": "markdown",
   "metadata": {
    "id": "4SgjCylEyNg6"
   },
   "source": [
    "(c) Compute the $\\sigma_j=\\sqrt{<j^2> - <j>^2}$"
   ]
  },
  {
   "cell_type": "code",
   "execution_count": 28,
   "metadata": {
    "colab": {
     "base_uri": "https://localhost:8080/"
    },
    "id": "8du_62I4x30g",
    "outputId": "f3a7e5ca-ceba-4dfd-bbff-8dea4e3d5d4d"
   },
   "outputs": [
    {
     "name": "stdout",
     "output_type": "stream",
     "text": [
      "sigma-sample-j: 4.309458036856672\n"
     ]
    }
   ],
   "source": [
    "sigma_sample_j = np.sqrt(sqrav_sample_j - av_sample_j**2)\n",
    "\n",
    "print(\"sigma-sample-j:\", sigma_sample_j)"
   ]
  },
  {
   "cell_type": "markdown",
   "metadata": {
    "id": "yP6pXx-8y4IN"
   },
   "source": [
    "(d) Compute the standard deviation using python functions and compare with (c)."
   ]
  },
  {
   "cell_type": "code",
   "execution_count": 29,
   "metadata": {
    "colab": {
     "base_uri": "https://localhost:8080/"
    },
    "id": "2Tz_D-Jlyhea",
    "outputId": "8fbd3e5b-dabe-4efa-b457-c08338adb40b"
   },
   "outputs": [
    {
     "name": "stdout",
     "output_type": "stream",
     "text": [
      "sigma-sample-j: 4.3094580368566735\n"
     ]
    }
   ],
   "source": [
    "sigma_sample_j2 = np.std(sample_j)\n",
    "\n",
    "print(\"sigma-sample-j:\", sigma_sample_j2)"
   ]
  },
  {
   "cell_type": "markdown",
   "metadata": {
    "id": "UmVf0xOB1leh"
   },
   "source": [
    "## **7. Problem (Gaussian functions)**\n",
    "\n",
    "Consider the Gaussian distribution:\n",
    "\n",
    "$\\rho(x) = A\\,e^{−\\lambda\\,(x−a)^2}$\n",
    "\n",
    "where: $A = \\sqrt{\\frac{\\lambda}{\\pi}}$, $a$, $\\lambda$ are positive real constants.\n",
    "\n",
    "Sketch $\\rho(x)$ versus $x$ for different values of $A$, $a$ and $\\lambda$."
   ]
  },
  {
   "cell_type": "code",
   "execution_count": 39,
   "metadata": {
    "id": "nNkUw-c4zIN9"
   },
   "outputs": [],
   "source": [
    "# Create a python function:\n",
    "def rho_x(l, a, x):\n",
    "\n",
    "  # Indentation in python\n",
    "  A = np.sqrt(l/np.pi)  \n",
    "\n",
    "  # Probability density funcion\n",
    "  rho_func = A*np.exp(-l*(x - a)**2)\n",
    "\n",
    "  # Returns\n",
    "  return rho_func"
   ]
  },
  {
   "cell_type": "code",
   "execution_count": 55,
   "metadata": {
    "id": "1-soD1IJ3ouz"
   },
   "outputs": [],
   "source": [
    "# Grid, x_axis\n",
    "x_span = np.arange(-10, 10, 0.01)\n",
    "\n",
    "# Evaluate for y_axis\n",
    "y_span1 = rho_x(2, 5, x_span)\n",
    "\n",
    "y_span2 = rho_x(3, 3, x_span)\n",
    "\n",
    "y_span3 = rho_x(0.25, -1, x_span)\n"
   ]
  },
  {
   "cell_type": "code",
   "execution_count": 56,
   "metadata": {
    "colab": {
     "base_uri": "https://localhost:8080/",
     "height": 388
    },
    "id": "zh1a0fBy4RSe",
    "outputId": "c7a3545d-4721-44f1-f02c-735f737d8b28"
   },
   "outputs": [
    {
     "data": {
      "image/png": "[encoded data removed]",
      "text/plain": [
       "<Figure size 576x432 with 1 Axes>"
      ]
     },
     "metadata": {
      "needs_background": "light"
     },
     "output_type": "display_data"
    }
   ],
   "source": [
    "# Plotting, figure environment:\n",
    "\n",
    "plt.figure(figsize=(8,6))\n",
    "\n",
    "plt.plot(x_span, y_span1, \"m\", linestyle = \":\", label = \"Prob. Dens. Dist. 1\")\n",
    "plt.plot(x_span, y_span2, \"b\", linestyle = \"-\", label = \"Prob. Dens. Dist. 2\")\n",
    "plt.plot(x_span, y_span3, \"g\", linestyle = \"-.\", label = \"Prob. Dens. Dist. 3\")\n",
    "\n",
    "# x axis\n",
    "plt.xlabel(\"x\")\n",
    "\n",
    "# Latex format the axis\n",
    "plt.ylabel(r\"$\\rho(x)$\")\n",
    "\n",
    "plt.legend(loc=2)\n",
    "\n",
    "plt.show()"
   ]
  },
  {
   "cell_type": "markdown",
   "metadata": {
    "id": "bA2Uc7lL7qPf"
   },
   "source": [
    "## **8. Problem (Wave superposition)**\n",
    "\n",
    "Consider the following linear combination of sine waves:\n",
    "\n",
    "$y(x) = \\sin(x) + \\sin(2x) + \\sin(4x)$\n",
    "\n",
    "Create a representation of the linear combination."
   ]
  },
  {
   "cell_type": "code",
   "execution_count": 60,
   "metadata": {
    "id": "fgww2TJe4rVM"
   },
   "outputs": [],
   "source": [
    "# Create a python function:\n",
    "def superposition_waves(x):\n",
    "\n",
    "  # Define function:\n",
    "  y_values = 0.5*np.sin(x) + np.sin(2*x) + np.sin(4*x)\n",
    "\n",
    "  return y_values"
   ]
  },
  {
   "cell_type": "code",
   "execution_count": 63,
   "metadata": {
    "id": "iR1tTIjC8VSE"
   },
   "outputs": [],
   "source": [
    "# Define a Grid\n",
    "# The x-axis\n",
    "\n",
    "x_axis = np.arange(-10, +10, 0.01)\n",
    "\n",
    "# The y_axis\n",
    "y_axis = superposition_waves(x_axis)"
   ]
  },
  {
   "cell_type": "code",
   "execution_count": 64,
   "metadata": {
    "colab": {
     "base_uri": "https://localhost:8080/",
     "height": 388
    },
    "id": "b99LvOdt8rkv",
    "outputId": "fa014362-0a7b-4393-fad1-d53db0d55ca4"
   },
   "outputs": [
    {
     "data": {
      "image/png": "[encoded data removed]",
      "text/plain": [
       "<Figure size 576x432 with 1 Axes>"
      ]
     },
     "metadata": {
      "needs_background": "light"
     },
     "output_type": "display_data"
    }
   ],
   "source": [
    "# Plotting, figure environment:\n",
    "\n",
    "plt.figure(figsize=(8,6))\n",
    "\n",
    "plt.plot(x_axis, y_axis, \"r\", linestyle = \"-\", label = \"Wave Superposition\")\n",
    "\n",
    "# x axis\n",
    "plt.xlabel(\"x\")\n",
    "\n",
    "# Latex format the axis\n",
    "plt.ylabel(\"y\")\n",
    "\n",
    "plt.legend(loc=2)\n",
    "\n",
    "plt.show()"
   ]
  },
  {
   "cell_type": "markdown",
   "metadata": {
    "id": "mgGauHlb9mTx"
   },
   "source": [
    "### Encapsulated waves:"
   ]
  },
  {
   "cell_type": "code",
   "execution_count": 65,
   "metadata": {
    "colab": {
     "base_uri": "https://localhost:8080/",
     "height": 388
    },
    "id": "P4XVMi6t86f9",
    "outputId": "4da2d8c3-1151-4a5a-9a68-3ace6cb10e51"
   },
   "outputs": [
    {
     "data": {
      "image/png": "[encoded data removed]",
      "text/plain": [
       "<Figure size 576x432 with 1 Axes>"
      ]
     },
     "metadata": {
      "needs_background": "light"
     },
     "output_type": "display_data"
    }
   ],
   "source": [
    "# Plotting, figure environment:\n",
    "\n",
    "plt.figure(figsize=(8,6))\n",
    "\n",
    "plt.plot(x_axis, y_axis*y_span3, \"b\", linestyle = \"-\", label = \"Wave Superposition\")\n",
    "\n",
    "# x axis\n",
    "plt.xlabel(\"x\")\n",
    "\n",
    "# Latex format the axis\n",
    "plt.ylabel(\"y\")\n",
    "\n",
    "plt.legend(loc=2)\n",
    "\n",
    "plt.show()"
   ]
  },
  {
   "cell_type": "code",
   "execution_count": null,
   "metadata": {
    "id": "ZRA6qXrj9vBL"
   },
   "outputs": [],
   "source": []
  }
 ],
 "metadata": {
  "colab": {
   "provenance": []
  },
  "kernelspec": {
   "display_name": "Python 3 (ipykernel)",
   "language": "python",
   "name": "python3"
  },
  "language_info": {
   "codemirror_mode": {
    "name": "ipython",
    "version": 3
   },
   "file_extension": ".py",
   "mimetype": "text/x-python",
   "name": "python",
   "nbconvert_exporter": "python",
   "pygments_lexer": "ipython3",
   "version": "3.9.12"
  }
 },
 "nbformat": 4,
 "nbformat_minor": 1
}
