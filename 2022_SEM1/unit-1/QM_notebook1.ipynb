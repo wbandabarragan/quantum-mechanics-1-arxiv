{
 "cells": [
  {
   "cell_type": "markdown",
   "metadata": {},
   "source": [
    "# Introduction to Python for Quantum Mechanics"
   ]
  },
  {
   "cell_type": "markdown",
   "metadata": {
    "id": "zWg7Vk0359Zh"
   },
   "source": [
    "### 1. Check where you are, you can use bash commands in a jupyter notebook with ! e.g."
   ]
  },
  {
   "cell_type": "code",
   "execution_count": 1,
   "metadata": {
    "colab": {
     "base_uri": "https://localhost:8080/"
    },
    "id": "9JmvKTdm6BLU",
    "outputId": "3c350188-f80f-4a41-b895-57db442b8375"
   },
   "outputs": [
    {
     "name": "stdout",
     "output_type": "stream",
     "text": [
      "/Users/webb/Dropbox/Yachay_Tech/Docencia/Mecanica_Cuantica/Lectures/quantum-mechanics-1/unit-1\r\n"
     ]
    }
   ],
   "source": [
    "!pwd"
   ]
  },
  {
   "cell_type": "markdown",
   "metadata": {
    "id": "QwElv6UI6T6C"
   },
   "source": [
    "### 2. Check python version"
   ]
  },
  {
   "cell_type": "code",
   "execution_count": 2,
   "metadata": {
    "colab": {
     "base_uri": "https://localhost:8080/"
    },
    "id": "5_CqehVT6E-x",
    "outputId": "d664693c-d971-4af9-cf64-ec5a9235c21a"
   },
   "outputs": [
    {
     "name": "stdout",
     "output_type": "stream",
     "text": [
      "Python 3.7.10\r\n"
     ]
    }
   ],
   "source": [
    "!python --version"
   ]
  },
  {
   "cell_type": "markdown",
   "metadata": {
    "id": "dRbhGOOn6ppH"
   },
   "source": [
    "### 3. Now, let's import a few libraries, there should be no errors"
   ]
  },
  {
   "cell_type": "code",
   "execution_count": 3,
   "metadata": {
    "id": "-5Dtc0Ft6avP"
   },
   "outputs": [],
   "source": [
    "# Importing libraries, # can be used in python to comment code\n",
    "\n",
    "import numpy as np # np, plt are aliases\n",
    "import scipy\n",
    "import matplotlib.pyplot as plt"
   ]
  },
  {
   "cell_type": "markdown",
   "metadata": {
    "id": "Jkxu-nau7DKu"
   },
   "source": [
    "### 4. Now, let's make a simple plot"
   ]
  },
  {
   "cell_type": "code",
   "execution_count": 4,
   "metadata": {
    "id": "WTZeEq1m69MU"
   },
   "outputs": [],
   "source": [
    "# This line is to show the plots online\n",
    "\n",
    "%matplotlib inline "
   ]
  },
  {
   "cell_type": "markdown",
   "metadata": {
    "id": "jjYlhsH47Vfb"
   },
   "source": [
    "### 5. Let's plot sin(x)"
   ]
  },
  {
   "cell_type": "code",
   "execution_count": 5,
   "metadata": {
    "id": "l_9PiRv47OMx"
   },
   "outputs": [],
   "source": [
    "# First, we need a vector for the X axis:\n",
    "\n",
    "x = np.arange(-2*np.pi, +2*np.pi, 0.1)\n",
    "\n",
    "# Documentation on arange: https://numpy.org/doc/stable/reference/generated/numpy.arange.html"
   ]
  },
  {
   "cell_type": "code",
   "execution_count": 6,
   "metadata": {
    "colab": {
     "base_uri": "https://localhost:8080/"
    },
    "id": "NGXvuGfw8Ll5",
    "outputId": "4954c53a-c584-49df-a395-a8b66eb04dfa"
   },
   "outputs": [
    {
     "name": "stdout",
     "output_type": "stream",
     "text": [
      "(126,)\n"
     ]
    }
   ],
   "source": [
    "#print(x)\n",
    "\n",
    "print(x.shape)"
   ]
  },
  {
   "cell_type": "code",
   "execution_count": 7,
   "metadata": {
    "id": "d__cQPQY8WXY"
   },
   "outputs": [],
   "source": [
    "# Now, we create a vector for the Y-axis and call the function sin(x)\n",
    "\n",
    "y = np.sin(x)"
   ]
  },
  {
   "cell_type": "code",
   "execution_count": 8,
   "metadata": {
    "colab": {
     "base_uri": "https://localhost:8080/"
    },
    "id": "SvcsyeDb8eW1",
    "outputId": "6d56db56-680f-46b9-e6eb-c1a148b77aaf"
   },
   "outputs": [
    {
     "name": "stdout",
     "output_type": "stream",
     "text": [
      "(126,)\n"
     ]
    }
   ],
   "source": [
    "#print(y)\n",
    "\n",
    "print(y.shape)"
   ]
  },
  {
   "cell_type": "markdown",
   "metadata": {
    "id": "HGM_a2tN8lQe"
   },
   "source": [
    "### Plot with matplotlib.pyplot (plt):"
   ]
  },
  {
   "cell_type": "code",
   "execution_count": 9,
   "metadata": {
    "colab": {
     "base_uri": "https://localhost:8080/",
     "height": 283
    },
    "id": "qk1ISREN8kO1",
    "outputId": "8f9d93f1-c32c-4419-928d-22756c5da8c0"
   },
   "outputs": [
    {
     "data": {
      "text/plain": [
       "[<matplotlib.lines.Line2D at 0x11bf54fd0>]"
      ]
     },
     "execution_count": 9,
     "metadata": {},
     "output_type": "execute_result"
    },
    {
     "data": {
      "image/png": "[encoded data removed]",
      "text/plain": [
       "<Figure size 432x288 with 1 Axes>"
      ]
     },
     "metadata": {
      "needs_background": "light"
     },
     "output_type": "display_data"
    }
   ],
   "source": [
    "# Documentation: https://matplotlib.org/stable/api/_as_gen/matplotlib.pyplot.plot.html\n",
    "\n",
    "plt.plot(x, y)"
   ]
  }
 ],
 "metadata": {
  "colab": {
   "name": "QM_notebook1.ipynb",
   "provenance": []
  },
  "kernelspec": {
   "display_name": "Python 3",
   "language": "python",
   "name": "python3"
  },
  "language_info": {
   "codemirror_mode": {
    "name": "ipython",
    "version": 3
   },
   "file_extension": ".py",
   "mimetype": "text/x-python",
   "name": "python",
   "nbconvert_exporter": "python",
   "pygments_lexer": "ipython3",
   "version": "3.7.10"
  }
 },
 "nbformat": 4,
 "nbformat_minor": 1
}
