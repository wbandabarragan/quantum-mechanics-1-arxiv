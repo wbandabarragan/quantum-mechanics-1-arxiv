{
  "nbformat": 4,
  "nbformat_minor": 0,
  "metadata": {
    "colab": {
      "provenance": [],
      "include_colab_link": true
    },
    "kernelspec": {
      "name": "python3",
      "display_name": "Python 3"
    },
    "language_info": {
      "name": "python"
    }
  },
  "cells": [
    {
      "cell_type": "markdown",
      "metadata": {
        "id": "view-in-github",
        "colab_type": "text"
      },
      "source": [
        "<a href=\"https://colab.research.google.com/github/wbandabarragan/quantum-mechanics-1/blob/main/unit-2/Python-Notebook-203.ipynb\" target=\"_parent\"><img src=\"https://colab.research.google.com/assets/colab-badge.svg\" alt=\"Open In Colab\"/></a>"
      ]
    },
    {
      "cell_type": "markdown",
      "source": [
        "## C) Finite square well potential\n",
        "\n",
        "This potential allows:\n",
        "\n",
        "Bound states: $E<0$\n",
        "\n",
        "Scattering states: $E>0$\n",
        "\n",
        "For bound states, the wavenumbers and energies are quantised:\n",
        "\n",
        "$tan(z) = \\sqrt{\\frac{z_0^2}{z^2} -1}$\n",
        "\n",
        "where $z=la$, $z_0^2= \\frac{2ma^2V_0}{\\hbar^2}$\n",
        "\n",
        "$l=\\frac{\\sqrt{2m(E+V_0)}}{\\hbar}$\n",
        "\n",
        "$k=l\\,tan(la) = \\frac{\\sqrt{-2mE}}{\\hbar}$"
      ],
      "metadata": {
        "id": "9hNhLBq-6gEx"
      }
    },
    {
      "cell_type": "code",
      "execution_count": null,
      "metadata": {
        "id": "BrTEAodW5Uzy"
      },
      "outputs": [],
      "source": [
        "import numpy as np\n",
        "import matplotlib.pyplot as plt\n",
        "import scipy.optimize as opt\n",
        "import scipy.constants as cte"
      ]
    },
    {
      "cell_type": "code",
      "source": [
        "# Define all constants\n",
        "\n",
        "hbar = cte.hbar # Planck constant\n",
        "m = cte.m_e # Mass of e-\n",
        "a = 2e-10 # half of the width of the well, in m = 2Angstrom = 0.2nm\n",
        "V0 = 1.60218e-17 # in J = 100eV\n",
        "\n",
        "# Compute z0\n",
        "z0 = np.sqrt(2*m*a**2*V0/hbar**2)\n",
        "\n",
        "print(z0)"
      ],
      "metadata": {
        "colab": {
          "base_uri": "https://localhost:8080/"
        },
        "id": "tYPpuTyS9q_4",
        "outputId": "1c3d9a6f-c9c3-4013-efb9-1a0d17fcd917"
      },
      "execution_count": null,
      "outputs": [
        {
          "output_type": "stream",
          "name": "stdout",
          "text": [
            "10.246345202565001\n"
          ]
        }
      ]
    },
    {
      "cell_type": "code",
      "source": [
        "# Vector for z axis\n",
        "z = np.arange(0, 4*np.pi, 0.001)\n",
        "\n",
        "# Functions:\n",
        "y_lhs = np.tan(z)\n",
        "\n",
        "y_rhs = np.sqrt((z0/z)**2 - 1)\n"
      ],
      "metadata": {
        "colab": {
          "base_uri": "https://localhost:8080/"
        },
        "id": "G-C8U8tO87kz",
        "outputId": "4f67d9d2-a044-4574-9c91-76cb7de57f70"
      },
      "execution_count": null,
      "outputs": [
        {
          "output_type": "stream",
          "name": "stderr",
          "text": [
            "<ipython-input-3-b976e7470526>:7: RuntimeWarning: divide by zero encountered in true_divide\n",
            "  y_rhs = np.sqrt((z0/z)**2 - 1)\n",
            "<ipython-input-3-b976e7470526>:7: RuntimeWarning: invalid value encountered in sqrt\n",
            "  y_rhs = np.sqrt((z0/z)**2 - 1)\n"
          ]
        }
      ]
    },
    {
      "cell_type": "markdown",
      "source": [
        "### Graphical solution"
      ],
      "metadata": {
        "id": "5OMMQNmI_g31"
      }
    },
    {
      "cell_type": "code",
      "source": [
        "# Plotting\n",
        "\n",
        "plt.figure(figsize= (6,5))\n",
        "\n",
        "# We need to cut the tangent\n",
        "limit_y = 12\n",
        "y_lhs[y_lhs > limit_y] = np.nan\n",
        "y_lhs[y_lhs < -limit_y] = np.nan\n",
        "\n",
        "plt.plot(z, y_lhs, label = \"tangent\")\n",
        "plt.plot(z, y_rhs, label = \"sqrt\")\n",
        "\n",
        "plt.ylim(0, 12)\n",
        "plt.legend()\n",
        "plt.grid()\n",
        "plt.show()\n",
        "\n"
      ],
      "metadata": {
        "colab": {
          "base_uri": "https://localhost:8080/",
          "height": 324
        },
        "id": "XFcmaVe-_R-c",
        "outputId": "7c6169ea-f198-4d67-aa48-c4be1261f9e0"
      },
      "execution_count": null,
      "outputs": [
        {
          "output_type": "display_data",
          "data": {
            "text/plain": [
              "<Figure size 432x360 with 1 Axes>"
            ],
            "image/png": "[encoded data removed]"
          },
          "metadata": {
            "needs_background": "light"
          }
        }
      ]
    },
    {
      "cell_type": "markdown",
      "source": [
        "### Optimisation:"
      ],
      "metadata": {
        "id": "MD9xS5NyEWfI"
      }
    },
    {
      "cell_type": "code",
      "source": [
        "# Functional:\n",
        "\n",
        "def tan_func(z, z0):\n",
        "\n",
        "  func = np.tan(z)/np.sqrt((z0/z)**2 - 1) - 1\n",
        "\n",
        "  return func"
      ],
      "metadata": {
        "id": "55Q_t6E7_1Rc"
      },
      "execution_count": null,
      "outputs": []
    },
    {
      "cell_type": "code",
      "source": [
        "# Optimise, ansatz = educated guess\n",
        "\n",
        "result = opt.root(tan_func, [1.5, 4, 6.5, 10], args=(z0))\n"
      ],
      "metadata": {
        "id": "g8oS7vv2El_s"
      },
      "execution_count": null,
      "outputs": []
    },
    {
      "cell_type": "code",
      "source": [
        "print(result)"
      ],
      "metadata": {
        "colab": {
          "base_uri": "https://localhost:8080/"
        },
        "id": "8gVbptjZFHTd",
        "outputId": "232effe9-8c9f-41fe-a14a-17cdbc6ba983"
      },
      "execution_count": null,
      "outputs": [
        {
          "output_type": "stream",
          "name": "stdout",
          "text": [
            "    fjac: array([[ 0.9996883 ,  0.00887903,  0.02240062, -0.00653298],\n",
            "       [-0.00687103,  0.99547706, -0.09309339, -0.01765853],\n",
            "       [ 0.0232733 , -0.09248996, -0.99516809,  0.02333319],\n",
            "       [-0.00586921, -0.01980366, -0.02173267, -0.99955043]])\n",
            "     fun: array([-1.51401935e-09, -4.86488849e-10,  3.65580011e-10, -2.93148839e-11])\n",
            " message: 'The solution converged.'\n",
            "    nfev: 21\n",
            "     qtf: array([ 7.54365813e-08,  3.78492143e-08,  1.36926286e-08, -5.63590708e-09])\n",
            "       r: array([ 7.82901651,  0.09797361,  0.24306789, -0.03641627,  2.50115731,\n",
            "       -0.19555275,  3.87424982, -2.27436034, -1.87050482, -5.20827813])\n",
            "  status: 1\n",
            " success: True\n",
            "       x: array([1.43070756, 4.28132347, 7.0898145 , 9.74035488])\n"
          ]
        }
      ]
    },
    {
      "cell_type": "code",
      "source": [
        "# Actual results for z from optimisation\n",
        "\n",
        "print(\"Allowed values for z are:\\n\",  result.x)"
      ],
      "metadata": {
        "colab": {
          "base_uri": "https://localhost:8080/"
        },
        "id": "yFSOoRyvFWB4",
        "outputId": "d6c2a5fe-030b-4241-d940-8228ca7ddab5"
      },
      "execution_count": null,
      "outputs": [
        {
          "output_type": "stream",
          "name": "stdout",
          "text": [
            "Allowed values for z are:\n",
            " [1.43070756 4.28132347 7.0898145  9.74035488]\n"
          ]
        }
      ]
    },
    {
      "cell_type": "code",
      "source": [
        "# Calculate l = z/a, inside the well\n",
        "\n",
        "print(\"Allowed values for l in [m^-1] are:\\n\",  result.x/a)\n"
      ],
      "metadata": {
        "colab": {
          "base_uri": "https://localhost:8080/"
        },
        "id": "FbNAlp3mFsAI",
        "outputId": "53828d63-caa5-45b5-e31f-ed0cf16a173b"
      },
      "execution_count": null,
      "outputs": [
        {
          "output_type": "stream",
          "name": "stdout",
          "text": [
            "Allowed values for l in [m^-1] are:\n",
            " [7.15353780e+09 2.14066173e+10 3.54490725e+10 4.87017744e+10]\n"
          ]
        }
      ]
    },
    {
      "cell_type": "code",
      "source": [
        "# Calculate k = l*tan(la), outside the well\n",
        "\n",
        "k_values = ((result.x)/a)*np.tan(result.x)\n",
        "\n",
        "print(\"Allowed values for k in [m^-1] are:\\n\",  k_values)"
      ],
      "metadata": {
        "colab": {
          "base_uri": "https://localhost:8080/"
        },
        "id": "WpTYhMrGGF-N",
        "outputId": "cf5e725e-1440-4563-8288-2c44366cbd9c"
      },
      "execution_count": null,
      "outputs": [
        {
          "output_type": "stream",
          "name": "stdout",
          "text": [
            "Allowed values for k in [m^-1] are:\n",
            " [5.07298397e+10 4.65451016e+10 3.69872006e+10 1.59005321e+10]\n"
          ]
        }
      ]
    },
    {
      "cell_type": "markdown",
      "source": [
        "### Allowed Energies:\n",
        "\n",
        "$E = -\\frac{k^2\\hbar^2}{2m}$"
      ],
      "metadata": {
        "id": "cTG4MXKNH_4R"
      }
    },
    {
      "cell_type": "code",
      "source": [
        "E_values = -(k_values**2*hbar**2)/(2*m)\n",
        "\n",
        "print(\"Allowed values for E in [J] are:\\n\",  E_values)"
      ],
      "metadata": {
        "colab": {
          "base_uri": "https://localhost:8080/"
        },
        "id": "LEqVPgv8HPMK",
        "outputId": "36eb8547-a43f-4a27-a864-8c75bb22c7e2"
      },
      "execution_count": null,
      "outputs": [
        {
          "output_type": "stream",
          "name": "stdout",
          "text": [
            "Allowed values for E in [J] are:\n",
            " [-1.57094258e-17 -1.32245620e-17 -8.35095717e-18 -1.54332236e-18]\n"
          ]
        }
      ]
    },
    {
      "cell_type": "code",
      "source": [
        "print(\"Allowed values for E in [eV] are:\\n\",  E_values/1.60218e-19)"
      ],
      "metadata": {
        "colab": {
          "base_uri": "https://localhost:8080/"
        },
        "id": "5Ihe7FBPI2jF",
        "outputId": "630968ec-b7cb-4ede-d500-29e6fe7a109e"
      },
      "execution_count": null,
      "outputs": [
        {
          "output_type": "stream",
          "name": "stdout",
          "text": [
            "Allowed values for E in [eV] are:\n",
            " [-98.05031773 -82.54105013 -52.12246546  -9.63264025]\n"
          ]
        }
      ]
    },
    {
      "cell_type": "markdown",
      "source": [
        "### Shallow, narrow potential:\n",
        "\n",
        "$z_0<\\frac{\\pi}{2}$"
      ],
      "metadata": {
        "id": "HiyhaWpDq_EI"
      }
    },
    {
      "cell_type": "code",
      "source": [
        "# Modify the potential properties\n",
        "\n",
        "a = 2e-10/4 # half of the width of the well, in m = 0.5Angstrom = 0.05nm\n",
        "V0 = 1.60218e-17/4 # in J = 25eV\n",
        "\n",
        "# Compute z0\n",
        "z0 = np.sqrt(2*m*a**2*V0/hbar**2)\n",
        "\n",
        "print(z0, np.pi/2)"
      ],
      "metadata": {
        "id": "HE4qHRfkJJfa",
        "colab": {
          "base_uri": "https://localhost:8080/"
        },
        "outputId": "a3b35c15-50d3-46a0-8cd1-75cacc02cc59"
      },
      "execution_count": null,
      "outputs": [
        {
          "output_type": "stream",
          "name": "stdout",
          "text": [
            "1.2807931503206251 1.5707963267948966\n"
          ]
        }
      ]
    },
    {
      "cell_type": "code",
      "source": [
        "# Vector for z axis\n",
        "z = np.arange(0, 4*np.pi, 0.001)\n",
        "\n",
        "# Functions:\n",
        "y_lhs = np.tan(z)\n",
        "\n",
        "y_rhs = np.sqrt((z0/z)**2 - 1)"
      ],
      "metadata": {
        "colab": {
          "base_uri": "https://localhost:8080/"
        },
        "id": "yUGymugOrSPO",
        "outputId": "57f86e2d-513a-4b1e-f8ce-37df5a096ef8"
      },
      "execution_count": null,
      "outputs": [
        {
          "output_type": "stream",
          "name": "stderr",
          "text": [
            "<ipython-input-14-b976e7470526>:7: RuntimeWarning: divide by zero encountered in true_divide\n",
            "  y_rhs = np.sqrt((z0/z)**2 - 1)\n",
            "<ipython-input-14-b976e7470526>:7: RuntimeWarning: invalid value encountered in sqrt\n",
            "  y_rhs = np.sqrt((z0/z)**2 - 1)\n"
          ]
        }
      ]
    },
    {
      "cell_type": "code",
      "source": [
        "# Plotting\n",
        "\n",
        "plt.figure(figsize= (6,5))\n",
        "\n",
        "# We need to cut the tangent\n",
        "limit_y = 12\n",
        "y_lhs[y_lhs > limit_y] = np.nan\n",
        "y_lhs[y_lhs < -limit_y] = np.nan\n",
        "\n",
        "plt.plot(z, y_lhs, label = \"tangent\")\n",
        "plt.plot(z, y_rhs, label = \"sqrt\")\n",
        "\n",
        "plt.xlim(0, 6)\n",
        "plt.ylim(0, 12)\n",
        "plt.legend()\n",
        "plt.grid()\n",
        "plt.show()\n",
        "\n"
      ],
      "metadata": {
        "colab": {
          "base_uri": "https://localhost:8080/",
          "height": 324
        },
        "id": "s36izmWbrx8d",
        "outputId": "dac8a635-c6d3-4c0a-d663-73e14811f013"
      },
      "execution_count": null,
      "outputs": [
        {
          "output_type": "display_data",
          "data": {
            "text/plain": [
              "<Figure size 432x360 with 1 Axes>"
            ],
            "image/png": "[encoded data removed]"
          },
          "metadata": {
            "needs_background": "light"
          }
        }
      ]
    },
    {
      "cell_type": "markdown",
      "source": [
        "### Optimisation:"
      ],
      "metadata": {
        "id": "hvLeOKKsszn5"
      }
    },
    {
      "cell_type": "code",
      "source": [
        "# Optimise, ansatz = educated guess\n",
        "\n",
        "result = opt.root(tan_func, [1.0], args=(z0))\n",
        "\n",
        "# Actual results for z from optimisation\n",
        "\n",
        "print(\"Allowed values for z are:\\n\",  result.x)"
      ],
      "metadata": {
        "colab": {
          "base_uri": "https://localhost:8080/"
        },
        "id": "PqtHsUmqr0sX",
        "outputId": "9b6693a8-5605-4b6b-9629-09514ab40827"
      },
      "execution_count": null,
      "outputs": [
        {
          "output_type": "stream",
          "name": "stdout",
          "text": [
            "Allowed values for z are:\n",
            " [0.8476045]\n"
          ]
        }
      ]
    },
    {
      "cell_type": "code",
      "source": [
        "# Calculate l = z/a, inside the well\n",
        "\n",
        "print(\"Allowed values for l in [m^-1] are:\\n\",  result.x/a)\n",
        "\n",
        "# Calculate k = l*tan(la), outside the well\n",
        "\n",
        "k_values = ((result.x)/a)*np.tan(result.x)\n",
        "\n",
        "print(\"Allowed values for k in [m^-1] are:\\n\",  k_values)\n",
        "\n",
        "# Calculate allow value for the energy\n",
        "\n",
        "E_values = -(k_values**2*hbar**2)/(2*m)\n",
        "\n",
        "print(\"Allowed values for E in [J] are:\\n\",  E_values)\n",
        "\n",
        "print(\"Allowed values for E in [eV] are:\\n\",  E_values/1.60218e-19)"
      ],
      "metadata": {
        "colab": {
          "base_uri": "https://localhost:8080/"
        },
        "id": "QhfaFyeVtAcj",
        "outputId": "864c32fd-e9af-4f0c-aca8-ecdc9ab92099"
      },
      "execution_count": null,
      "outputs": [
        {
          "output_type": "stream",
          "name": "stdout",
          "text": [
            "Allowed values for l in [m^-1] are:\n",
            " [1.695209e+10]\n",
            "Allowed values for k in [m^-1] are:\n",
            " [1.92041423e+10]\n",
            "Allowed values for E in [J] are:\n",
            " [-2.25124708e-18]\n",
            "Allowed values for E in [eV] are:\n",
            " [-14.05114958]\n"
          ]
        }
      ]
    },
    {
      "cell_type": "markdown",
      "source": [
        "### Wide, deep potential\n",
        "\n",
        "$z_0>>0$"
      ],
      "metadata": {
        "id": "R_Es2E0punCS"
      }
    },
    {
      "cell_type": "code",
      "source": [
        "# Modify the potential properties\n",
        "\n",
        "a = 2e-10*1.5 # half of the width of the well, in m = 3Angstrom = 0.3nm\n",
        "V0 = 1.60218e-17*1.5 # in J = 150eV\n",
        "\n",
        "# Compute z0\n",
        "z0 = np.sqrt(2*m*a**2*V0/hbar**2)\n",
        "\n",
        "print(z0)"
      ],
      "metadata": {
        "colab": {
          "base_uri": "https://localhost:8080/"
        },
        "id": "wziRe1-WthTF",
        "outputId": "452885ff-8331-46d4-cc73-ce8245b8e768"
      },
      "execution_count": null,
      "outputs": [
        {
          "output_type": "stream",
          "name": "stdout",
          "text": [
            "18.823738106023946\n"
          ]
        }
      ]
    },
    {
      "cell_type": "code",
      "source": [
        "# Vector for z axis\n",
        "z = np.arange(0, 7*np.pi, 0.001)\n",
        "\n",
        "# Functions:\n",
        "y_lhs = np.tan(z)\n",
        "\n",
        "y_rhs = np.sqrt((z0/z)**2 - 1)"
      ],
      "metadata": {
        "colab": {
          "base_uri": "https://localhost:8080/"
        },
        "id": "vPrzyEl5vDB3",
        "outputId": "a7d1ef5e-584d-407b-c223-3f546050661d"
      },
      "execution_count": null,
      "outputs": [
        {
          "output_type": "stream",
          "name": "stderr",
          "text": [
            "<ipython-input-19-21c18c22d3cd>:7: RuntimeWarning: divide by zero encountered in true_divide\n",
            "  y_rhs = np.sqrt((z0/z)**2 - 1)\n",
            "<ipython-input-19-21c18c22d3cd>:7: RuntimeWarning: invalid value encountered in sqrt\n",
            "  y_rhs = np.sqrt((z0/z)**2 - 1)\n"
          ]
        }
      ]
    },
    {
      "cell_type": "code",
      "source": [
        "# Plotting\n",
        "\n",
        "plt.figure(figsize= (6,5))\n",
        "\n",
        "# We need to cut the tangent\n",
        "limit_y = 40\n",
        "y_lhs[y_lhs > limit_y] = np.nan\n",
        "y_lhs[y_lhs < -limit_y] = np.nan\n",
        "\n",
        "plt.plot(z, y_lhs, label = \"tangent\")\n",
        "plt.plot(z, y_rhs, label = \"sqrt\")\n",
        "\n",
        "plt.xlim(0, 20)\n",
        "plt.ylim(0, 40)\n",
        "plt.legend()\n",
        "plt.grid()\n",
        "plt.show()\n",
        "\n"
      ],
      "metadata": {
        "colab": {
          "base_uri": "https://localhost:8080/",
          "height": 324
        },
        "id": "fZjeComZvZP1",
        "outputId": "f90ead20-6562-4672-b095-787501cf4f02"
      },
      "execution_count": null,
      "outputs": [
        {
          "output_type": "display_data",
          "data": {
            "text/plain": [
              "<Figure size 432x360 with 1 Axes>"
            ],
            "image/png": "[encoded data removed]"
          },
          "metadata": {
            "needs_background": "light"
          }
        }
      ]
    },
    {
      "cell_type": "markdown",
      "source": [
        "### Optimisation:\n",
        "\n"
      ],
      "metadata": {
        "id": "sBhKjP-fwmJR"
      }
    },
    {
      "cell_type": "code",
      "source": [
        "# Optimise, ansatz = educated guess\n",
        "\n",
        "result = opt.root(tan_func, [1.5, 4.5, 7.4, 10.2, 13., 16.5], args=(z0))\n",
        "\n",
        "#print(result)\n",
        "# Actual results for z from optimisation\n",
        "\n",
        "print(\"Allowed values for z are:\\n\",  result.x)"
      ],
      "metadata": {
        "colab": {
          "base_uri": "https://localhost:8080/"
        },
        "id": "lDhGQMXVvcFQ",
        "outputId": "78a0ad40-ddd7-4f79-a0c1-984050c08219"
      },
      "execution_count": null,
      "outputs": [
        {
          "output_type": "stream",
          "name": "stdout",
          "text": [
            "Allowed values for z are:\n",
            " [ 1.49147923  4.47249596  7.44722833 10.40960849 13.34887356 16.23827615]\n"
          ]
        }
      ]
    },
    {
      "cell_type": "code",
      "source": [
        "# Calculate l = z/a, inside the well\n",
        "\n",
        "print(\"Allowed values for l in [m^-1] are:\\n\",  result.x/a)\n",
        "\n",
        "# Calculate k = l*tan(la), outside the well\n",
        "\n",
        "k_values = ((result.x)/a)*np.tan(result.x)\n",
        "\n",
        "print(\"Allowed values for k in [m^-1] are:\\n\",  k_values)\n",
        "\n",
        "# Calculate allow value for the energy\n",
        "\n",
        "E_values = -(k_values**2*hbar**2)/(2*m)\n",
        "\n",
        "print(\"Allowed values for E in [J] are:\\n\",  E_values)\n",
        "\n",
        "print(\"Allowed values for E in [eV] are:\\n\",  E_values/1.60218e-19)"
      ],
      "metadata": {
        "colab": {
          "base_uri": "https://localhost:8080/"
        },
        "id": "zR7rl4S4xMT3",
        "outputId": "09df2574-acee-43e6-8b7d-159c272a6ddf"
      },
      "execution_count": null,
      "outputs": [
        {
          "output_type": "stream",
          "name": "stdout",
          "text": [
            "Allowed values for l in [m^-1] are:\n",
            " [4.97159744e+09 1.49083199e+10 2.48240944e+10 3.46986950e+10\n",
            " 4.44962452e+10 5.41275872e+10]\n",
            "Allowed values for k in [m^-1] are:\n",
            " [6.25485238e+10 6.09489671e+10 5.76263743e+10 5.22784389e+10\n",
            " 4.42393353e+10 3.17370278e+10]\n",
            "Allowed values for E in [J] are:\n",
            " [-2.38818222e-17 -2.26759782e-17 -2.02710350e-17 -1.66831691e-17\n",
            " -1.19467704e-17 -6.14845270e-18]\n",
            "Allowed values for E in [eV] are:\n",
            " [-149.05829669 -141.53202656 -126.52158297 -104.12793264  -74.56571902\n",
            "  -38.37554268]\n"
          ]
        }
      ]
    }
  ]
}