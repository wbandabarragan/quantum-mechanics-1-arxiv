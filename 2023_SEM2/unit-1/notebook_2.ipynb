{
  "nbformat": 4,
  "nbformat_minor": 0,
  "metadata": {
    "colab": {
      "provenance": [],
      "authorship_tag": "ABX9TyPrnqzoP5PSd0Xwvnh4oJ6U",
      "include_colab_link": true
    },
    "kernelspec": {
      "name": "python3",
      "display_name": "Python 3"
    },
    "language_info": {
      "name": "python"
    }
  },
  "cells": [
    {
      "cell_type": "markdown",
      "metadata": {
        "id": "view-in-github",
        "colab_type": "text"
      },
      "source": [
        "<a href=\"https://colab.research.google.com/github/wbandabarragan/quantum-mechanics-1/blob/main/unit-1/notebook_2.ipynb\" target=\"_parent\"><img src=\"https://colab.research.google.com/assets/colab-badge.svg\" alt=\"Open In Colab\"/></a>"
      ]
    },
    {
      "cell_type": "markdown",
      "source": [
        "# Black body radiation:\n",
        "\n",
        "## Problem 1\n",
        "\n",
        "1. Write python functions to compute the spectral radiance of a body for different frequencies, $\\nu$, and different (absolute) temperatures, $T$, according to the Rayleigh-Jeans and the Planck laws.\n",
        "\n",
        "\n",
        "2. Add a label indicating the UV side of the spectrum.\n",
        "\n",
        "\n",
        "3. Now, make the plots of spectral radiance versus wavelength, also for both laws.\n",
        "\n",
        "\n",
        "4. Repeat the plot adding markers to show the expectation values according to Wien's displacement law for a couple of temperature-wavelength pairs."
      ],
      "metadata": {
        "id": "XbDrTy5FEPDX"
      }
    },
    {
      "cell_type": "code",
      "execution_count": null,
      "metadata": {
        "id": "JKzYfI7GD-KK"
      },
      "outputs": [],
      "source": [
        "# Import some libraries\n",
        "\n",
        "import numpy as np\n",
        "import matplotlib.pyplot as plt\n",
        "\n",
        "# Import scipy.constants, which contains most physical constants\n",
        "import scipy.constants as cte"
      ]
    },
    {
      "cell_type": "markdown",
      "source": [
        "### Rayleigh-Jeans law (classical equation):\n",
        "\n",
        "$$B_{\\lambda}= \\frac{2ck_BT}{\\lambda^4} $$"
      ],
      "metadata": {
        "id": "ELCZIhcMEycm"
      }
    },
    {
      "cell_type": "code",
      "source": [
        "# Fundamental constants\n",
        "# Documentation: https://docs.scipy.org/doc/scipy/reference/constants.html\n",
        "\n",
        "print(cte.c) # speed of light in m/s\n",
        "print(cte.k) # Boltzmann constant in SI units J/K"
      ],
      "metadata": {
        "colab": {
          "base_uri": "https://localhost:8080/"
        },
        "id": "fxi--KAaEtkA",
        "outputId": "a6a05ab1-93a8-4c04-89dc-c2f18e25811a"
      },
      "execution_count": null,
      "outputs": [
        {
          "output_type": "stream",
          "name": "stdout",
          "text": [
            "299792458.0\n",
            "1.380649e-23\n"
          ]
        }
      ]
    },
    {
      "cell_type": "code",
      "source": [
        "# Fix the black body temperature\n",
        "t_b = 5000 # in K\n",
        "\n",
        "# Fix constants\n",
        "c = cte.c\n",
        "kb = cte.k\n",
        "\n",
        "# Vector for the wavelenghts\n",
        "l_b = np.arange(1.e-9, 5000.e-9, 1.e-9) # in m\n",
        "\n",
        "# Spectral radiance in SI units\n",
        "\n",
        "def rayleigh(l_b, t_b):\n",
        "  \"\"\"\n",
        "  This function computes the spectral radiance:\n",
        "  Inputs: wavelenghts (l_b), temperature (t_b)\n",
        "  Output: spectral radiance (B)\n",
        "  \"\"\"\n",
        "  B_l = (2*c*kb*t_b)/(l_b**4)\n",
        "\n",
        "  return B_l"
      ],
      "metadata": {
        "id": "0MaFCyifFKK9"
      },
      "execution_count": null,
      "outputs": []
    },
    {
      "cell_type": "code",
      "source": [
        "# Call the function for the Yaxis values\n",
        "s_r = rayleigh(l_b, t_b)\n",
        "\n",
        "print(l_b.shape, s_r.shape)"
      ],
      "metadata": {
        "colab": {
          "base_uri": "https://localhost:8080/"
        },
        "id": "yU-IJfByGjeD",
        "outputId": "4091ab0c-4eb6-4519-87ca-9366d66d6d72"
      },
      "execution_count": null,
      "outputs": [
        {
          "output_type": "stream",
          "name": "stdout",
          "text": [
            "(4999,) (4999,)\n"
          ]
        }
      ]
    },
    {
      "cell_type": "code",
      "source": [
        "# Plotting\n",
        "\n",
        "plt.figure(figsize=(3,2))\n",
        "\n",
        "plt.plot(l_b, s_r, label = r\"$CM: 5000\\,\\rm K$\")\n",
        "\n",
        "plt.ylim(0, 5.e13)\n",
        "\n",
        "plt.legend()\n",
        "\n",
        "plt.xlabel(r\"$\\lambda$\")\n",
        "plt.ylabel(r\"$B_{\\lambda}$\")\n",
        "\n",
        "plt.show()"
      ],
      "metadata": {
        "colab": {
          "base_uri": "https://localhost:8080/",
          "height": 250
        },
        "id": "EqeIzp_2GrLB",
        "outputId": "902c4918-3e74-491b-f4aa-bfeb5776b802"
      },
      "execution_count": null,
      "outputs": [
        {
          "output_type": "display_data",
          "data": {
            "text/plain": [
              "<Figure size 300x200 with 1 Axes>"
            ],
            "image/png": "[encoded data removed]"
          },
          "metadata": {}
        }
      ]
    },
    {
      "cell_type": "markdown",
      "source": [
        "### Planck's law:\n",
        "\n",
        "$$B_\\lambda =\\frac{2hc^2}{\\lambda^5}\\frac 1{ \\exp\\left(\\frac{hc}{\\lambda k_\\mathrm B T}\\right) - 1}$$"
      ],
      "metadata": {
        "id": "1Sq2jFJfHmQz"
      }
    },
    {
      "cell_type": "code",
      "source": [
        "# Define Planck constant\n",
        "h = cte.h\n",
        "\n",
        "print(h)\n",
        "\n",
        "# Planck function:\n",
        "\n",
        "def planck(l_b, t_b):\n",
        "  \"\"\"\n",
        "  This is a function to compute the spectral radiance according to QM.\n",
        "  Inputs: wavelenghts (l_b), temperature (t_b)\n",
        "  Output: spectral radiance (B)\n",
        "  \"\"\"\n",
        "\n",
        "  B_l = ((2*h*c**2)/(l_b**5))*((1)/(np.exp((h*c)/(l_b*kb*t_b)) - 1)) #spectral radiance in SI units\n",
        "\n",
        "  return B_l # values that we want the function to output\n"
      ],
      "metadata": {
        "id": "zMcjNSO6G3OS",
        "outputId": "d140b94b-8ff3-4b30-9461-fae69a767200",
        "colab": {
          "base_uri": "https://localhost:8080/"
        }
      },
      "execution_count": null,
      "outputs": [
        {
          "output_type": "stream",
          "name": "stdout",
          "text": [
            "6.62607015e-34\n"
          ]
        }
      ]
    },
    {
      "cell_type": "code",
      "source": [
        "# Call the function for the Yaxis values\n",
        "s_r2 = planck(l_b, t_b)\n",
        "\n",
        "print(l_b.shape, s_r2.shape)"
      ],
      "metadata": {
        "colab": {
          "base_uri": "https://localhost:8080/"
        },
        "id": "gv-PLM2zHzya",
        "outputId": "47953688-ef38-44b9-da31-632e3fa9196c"
      },
      "execution_count": null,
      "outputs": [
        {
          "output_type": "stream",
          "name": "stdout",
          "text": [
            "(4999,) (4999,)\n"
          ]
        },
        {
          "output_type": "stream",
          "name": "stderr",
          "text": [
            "<ipython-input-12-bb367bd58840>:15: RuntimeWarning: overflow encountered in exp\n",
            "  B_l = ((2*h*c**2)/(l_b**5))*((1)/(np.exp((h*c)/(l_b*kb*t_b)) - 1)) #spectral radiance in SI units\n"
          ]
        }
      ]
    },
    {
      "cell_type": "code",
      "source": [
        "# Plotting\n",
        "\n",
        "plt.figure(figsize=(3,2))\n",
        "\n",
        "plt.plot(l_b, s_r2, color = \"red\", label = r\"$QM: 5000\\,\\rm K$\")\n",
        "\n",
        "plt.ylim(0, 5.e13)\n",
        "\n",
        "plt.xlabel(r\"$\\lambda$\")\n",
        "plt.ylabel(r\"$B_{\\lambda}$\")\n",
        "\n",
        "plt.legend()\n",
        "\n",
        "plt.show()"
      ],
      "metadata": {
        "colab": {
          "base_uri": "https://localhost:8080/",
          "height": 250
        },
        "id": "mFHpCEyLIUJP",
        "outputId": "28a9c642-d543-4456-da21-c2319bdef492"
      },
      "execution_count": null,
      "outputs": [
        {
          "output_type": "display_data",
          "data": {
            "text/plain": [
              "<Figure size 300x200 with 1 Axes>"
            ],
            "image/png": "[encoded data removed]"
          },
          "metadata": {}
        }
      ]
    },
    {
      "cell_type": "markdown",
      "source": [
        "# Comparison between CM and QM:"
      ],
      "metadata": {
        "id": "06TMh_1rIiqQ"
      }
    },
    {
      "cell_type": "code",
      "source": [
        "# Plotting\n",
        "\n",
        "plt.figure(figsize=(3,2))\n",
        "\n",
        "plt.plot(l_b, s_r, color = \"blue\", label = r\"$CM: 5000\\,\\rm K$\")\n",
        "plt.plot(l_b, s_r2, color = \"red\", label = r\"$QM: 5000\\,\\rm K$\")\n",
        "\n",
        "plt.xlabel(r\"$\\lambda [m]$\")\n",
        "plt.ylabel(r\"$B_{\\lambda}\\,\\rm [W\\,sr^{-1}\\,m^{-3}]$\") # 'r' is to access latex notation\n",
        "\n",
        "plt.xlim(0, 4.e-6)\n",
        "plt.ylim(0, 2.e13)\n",
        "\n",
        "plt.legend()\n",
        "\n",
        "plt.show()"
      ],
      "metadata": {
        "colab": {
          "base_uri": "https://localhost:8080/",
          "height": 251
        },
        "id": "aPQ3KcjDIbWR",
        "outputId": "7fc8b70e-de26-4b91-81c0-52e06e3524f2"
      },
      "execution_count": null,
      "outputs": [
        {
          "output_type": "display_data",
          "data": {
            "text/plain": [
              "<Figure size 300x200 with 1 Axes>"
            ],
            "image/png": "[encoded data removed]"
          },
          "metadata": {}
        }
      ]
    },
    {
      "cell_type": "markdown",
      "source": [
        "# Wien's displacement:\n",
        "\n",
        "$$\\lambda_{\\rm peak} = \\frac{b}{T}$$\n",
        "\n",
        "where: $b = 2.898\\times 10^{-3}\\,\\rm K\\,m$"
      ],
      "metadata": {
        "id": "qt3DfUIoKqmq"
      }
    },
    {
      "cell_type": "code",
      "source": [
        "# Fix b\n",
        "\n",
        "b = 2.898e-3\n",
        "\n",
        "# Function for the displacement:\n",
        "\n",
        "def wien(t_b):\n",
        "  \"\"\"\n",
        "  Function to compute Wien's displacement\n",
        "  \"\"\"\n",
        "  l_max = b/t_b\n",
        "\n",
        "  return l_max"
      ],
      "metadata": {
        "id": "spQoKpjDIsxw"
      },
      "execution_count": null,
      "outputs": []
    },
    {
      "cell_type": "code",
      "source": [
        "# Call the function\n",
        "l_m = wien(t_b)\n",
        "\n",
        "print(t_b, l_m)\n",
        "\n",
        "# Evaluate this using planck law\n",
        "\n",
        "rad_lm = planck(l_m, t_b)\n",
        "\n",
        "print(l_m, rad_lm)\n"
      ],
      "metadata": {
        "colab": {
          "base_uri": "https://localhost:8080/"
        },
        "id": "TgMmqubxLVF1",
        "outputId": "7b29d28f-bf11-4460-a69c-17c6e6d02965"
      },
      "execution_count": null,
      "outputs": [
        {
          "output_type": "stream",
          "name": "stdout",
          "text": [
            "5000 5.796e-07\n",
            "5.796e-07 12798983170747.459\n"
          ]
        }
      ]
    },
    {
      "cell_type": "code",
      "source": [
        "# Add this pair to the plot\n",
        "\n",
        "plt.figure(figsize=(3,2))\n",
        "\n",
        "plt.plot(l_b, s_r, color = \"blue\", label = r\"$CM: 5000\\,\\rm K$\")\n",
        "plt.plot(l_b, s_r2, color = \"red\", label = r\"$QM: 5000\\,\\rm K$\")\n",
        "plt.plot(l_m, rad_lm, color = \"green\", marker = \"d\", label = \"Peak (Wien)\")\n",
        "\n",
        "plt.xlabel(r\"$\\lambda [m]$\")\n",
        "plt.ylabel(r\"$B_{\\lambda}\\,\\rm [W\\,sr^{-1}\\,m^{-3}]$\") # 'r' is to access latex notation\n",
        "\n",
        "plt.xlim(0, 4.e-6)\n",
        "plt.ylim(0, 2.e13)\n",
        "\n",
        "plt.legend()\n",
        "\n",
        "plt.show()"
      ],
      "metadata": {
        "colab": {
          "base_uri": "https://localhost:8080/",
          "height": 251
        },
        "id": "RprXeGamLdHh",
        "outputId": "e30400a0-a9ab-43eb-b0e4-bf1722cf0c28"
      },
      "execution_count": null,
      "outputs": [
        {
          "output_type": "display_data",
          "data": {
            "text/plain": [
              "<Figure size 300x200 with 1 Axes>"
            ],
            "image/png": "[encoded data removed]"
          },
          "metadata": {}
        }
      ]
    },
    {
      "cell_type": "markdown",
      "source": [
        "## Problem 2 (statistical distributions):\n",
        "\n",
        "Imagine a room containing fourteen people, whose ages are as follows: one person aged 14, one person aged 15, three people aged 16, two people aged 22, two people aged 24, five people aged 25.\n",
        "\n",
        "(a) Compute $<j>^2$ and $<j^2>$.\n",
        "\n",
        "(b) Compute the $\\sqrt{<j^2> - <j>^2}$\n",
        "\n",
        "(c) Compute the standard deviation and compare with (b)."
      ],
      "metadata": {
        "id": "4bVR0xWgXIi5"
      }
    },
    {
      "cell_type": "code",
      "source": [
        "sample = np.array([14,15,16,16,16,22,22,24,24,25,25,25,25,25])\n",
        "print(sample)"
      ],
      "metadata": {
        "id": "tACMe4gBMGMB",
        "outputId": "0fc7b2b2-1572-47b7-9e6d-c118f916146d",
        "colab": {
          "base_uri": "https://localhost:8080/"
        }
      },
      "execution_count": null,
      "outputs": [
        {
          "output_type": "stream",
          "name": "stdout",
          "text": [
            "[14 15 16 16 16 22 22 24 24 25 25 25 25 25]\n"
          ]
        }
      ]
    },
    {
      "cell_type": "code",
      "source": [
        "\n",
        "plt.hist(sample, bins=10, range=(13,26), histtype='step')"
      ],
      "metadata": {
        "id": "IZKJIXAiXNWI",
        "colab": {
          "base_uri": "https://localhost:8080/",
          "height": 500
        },
        "outputId": "eb09bc41-04b2-4f5c-b6ae-35d792197d35"
      },
      "execution_count": null,
      "outputs": [
        {
          "output_type": "execute_result",
          "data": {
            "text/plain": [
              "(array([1., 1., 3., 0., 0., 0., 2., 0., 2., 5.]),\n",
              " array([13. , 14.3, 15.6, 16.9, 18.2, 19.5, 20.8, 22.1, 23.4, 24.7, 26. ]),\n",
              " [<matplotlib.patches.Polygon at 0x79d4b539e2f0>])"
            ]
          },
          "metadata": {},
          "execution_count": 23
        },
        {
          "output_type": "display_data",
          "data": {
            "text/plain": [
              "<Figure size 640x480 with 1 Axes>"
            ],
            "image/png": "[encoded data removed]"
          },
          "metadata": {}
        }
      ]
    },
    {
      "cell_type": "markdown",
      "source": [
        "### Average:"
      ],
      "metadata": {
        "id": "OBOEy03pXnGR"
      }
    },
    {
      "cell_type": "code",
      "source": [
        "av_sample = np.mean(sample)\n",
        "\n",
        "print(\"average is =\", av_sample)"
      ],
      "metadata": {
        "colab": {
          "base_uri": "https://localhost:8080/"
        },
        "id": "pRJ8houVXit9",
        "outputId": "5c45bba5-0455-4e79-9af1-c33bd23fe377"
      },
      "execution_count": null,
      "outputs": [
        {
          "output_type": "stream",
          "name": "stdout",
          "text": [
            "average is = 21.0\n"
          ]
        }
      ]
    },
    {
      "cell_type": "markdown",
      "source": [
        "### Average of the square:"
      ],
      "metadata": {
        "id": "DHVT2FdSXza_"
      }
    },
    {
      "cell_type": "code",
      "source": [
        "sqr_av_sample = np.mean(sample**2)\n",
        "\n",
        "print(\"average is =\", sqr_av_sample)"
      ],
      "metadata": {
        "colab": {
          "base_uri": "https://localhost:8080/"
        },
        "id": "Zm4HSgH1XqX4",
        "outputId": "13febcd6-7489-4376-eadd-51ac47c3cd97"
      },
      "execution_count": null,
      "outputs": [
        {
          "output_type": "stream",
          "name": "stdout",
          "text": [
            "average is = 459.57142857142856\n"
          ]
        }
      ]
    },
    {
      "cell_type": "markdown",
      "source": [
        "### Standard deviation with formula:"
      ],
      "metadata": {
        "id": "YMkEYZkoX2X3"
      }
    },
    {
      "cell_type": "code",
      "source": [
        "sigma_sample = np.sqrt(sqr_av_sample - av_sample**2)\n",
        "\n",
        "print(\"sigma is =\", sigma_sample)"
      ],
      "metadata": {
        "colab": {
          "base_uri": "https://localhost:8080/"
        },
        "id": "pkMWD1DGXrNS",
        "outputId": "cfb25a89-41c8-4727-decf-805ff5293bc9"
      },
      "execution_count": null,
      "outputs": [
        {
          "output_type": "stream",
          "name": "stdout",
          "text": [
            "sigma is = 4.309458036856672\n"
          ]
        }
      ]
    },
    {
      "cell_type": "markdown",
      "source": [
        "### Standard deviation with Numpy:"
      ],
      "metadata": {
        "id": "S7MRKphYX6KH"
      }
    },
    {
      "cell_type": "code",
      "source": [
        "std_sample = np.std(sample)\n",
        "\n",
        "print(\"sigma is =\", std_sample)"
      ],
      "metadata": {
        "colab": {
          "base_uri": "https://localhost:8080/"
        },
        "id": "ZyfDiMjCXtIi",
        "outputId": "5b15395f-d1d0-459e-e925-6600e662ec20"
      },
      "execution_count": null,
      "outputs": [
        {
          "output_type": "stream",
          "name": "stdout",
          "text": [
            "sigma is = 4.3094580368566735\n"
          ]
        }
      ]
    },
    {
      "cell_type": "code",
      "source": [],
      "metadata": {
        "id": "oOZpHVbqXvFs"
      },
      "execution_count": null,
      "outputs": []
    }
  ]
}