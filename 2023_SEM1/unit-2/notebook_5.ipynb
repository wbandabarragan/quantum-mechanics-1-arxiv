{
  "cells": [
    {
      "cell_type": "markdown",
      "metadata": {
        "id": "view-in-github",
        "colab_type": "text"
      },
      "source": [
        "<a href=\"https://colab.research.google.com/github/wbandabarragan/quantum-mechanics-1/blob/main/unit-2/notebook_5.ipynb\" target=\"_parent\"><img src=\"https://colab.research.google.com/assets/colab-badge.svg\" alt=\"Open In Colab\"/></a>"
      ]
    },
    {
      "cell_type": "markdown",
      "source": [
        "# Finite square well potential:"
      ],
      "metadata": {
        "id": "sZdLW8o1Q4Ep"
      },
      "id": "sZdLW8o1Q4Ep"
    },
    {
      "cell_type": "code",
      "execution_count": 1,
      "id": "f18f6f1a",
      "metadata": {
        "id": "f18f6f1a"
      },
      "outputs": [],
      "source": [
        "# Importing libraries\n",
        "\n",
        "import numpy as np\n",
        "import matplotlib.pyplot as plt\n",
        "import scipy.optimize as opt"
      ]
    },
    {
      "cell_type": "code",
      "execution_count": 2,
      "id": "470646df",
      "metadata": {
        "id": "470646df"
      },
      "outputs": [],
      "source": [
        "# Fix z_0\n",
        "z0 = 8\n",
        "\n",
        "# Vector for z\n",
        "z = np.arange(0, 10*np.pi, 0.001)\n"
      ]
    },
    {
      "cell_type": "markdown",
      "id": "bb64ded5",
      "metadata": {
        "id": "bb64ded5"
      },
      "source": [
        "$\\tan(z) = \\sqrt{\\left(\\frac{z_0}{z}\\right)^2 - 1}$"
      ]
    },
    {
      "cell_type": "code",
      "execution_count": 3,
      "id": "b97d7e7b",
      "metadata": {
        "colab": {
          "base_uri": "https://localhost:8080/"
        },
        "id": "b97d7e7b",
        "outputId": "114152e4-87aa-44ea-c008-00a5371d79bf"
      },
      "outputs": [
        {
          "output_type": "stream",
          "name": "stderr",
          "text": [
            "<ipython-input-3-d117e7a36931>:5: RuntimeWarning: divide by zero encountered in true_divide\n",
            "  y_rhs = np.sqrt((z0**2/z**2) - 1)\n",
            "<ipython-input-3-d117e7a36931>:5: RuntimeWarning: invalid value encountered in sqrt\n",
            "  y_rhs = np.sqrt((z0**2/z**2) - 1)\n"
          ]
        }
      ],
      "source": [
        "# Evaluate the LHS and RHS\n",
        "\n",
        "y_lhs = np.tan(z)\n",
        "\n",
        "y_rhs = np.sqrt((z0**2/z**2) - 1)\n"
      ]
    },
    {
      "cell_type": "code",
      "execution_count": 11,
      "id": "0e56b5a2",
      "metadata": {
        "colab": {
          "base_uri": "https://localhost:8080/",
          "height": 291
        },
        "id": "0e56b5a2",
        "outputId": "0a6274d7-71ae-406d-af45-314b2aa82618"
      },
      "outputs": [
        {
          "output_type": "display_data",
          "data": {
            "text/plain": [
              "<Figure size 400x300 with 1 Axes>"
            ],
            "image/png": "[encoded data removed]"
          },
          "metadata": {}
        }
      ],
      "source": [
        "# Remove large values from the tangent\n",
        "\n",
        "y_lhs[y_lhs > +4*z0] = np.nan\n",
        "y_lhs[y_lhs < -4*z0] = np.nan\n",
        "\n",
        "# Plotting\n",
        "\n",
        "plt.figure(figsize = (4,3))\n",
        "\n",
        "plt.plot(z, y_lhs)\n",
        "plt.plot(z, y_rhs)\n",
        "\n",
        "plt.xlim(0, z0)\n",
        "plt.ylim(0, 3*z0)\n",
        "\n",
        "plt.show()"
      ]
    },
    {
      "cell_type": "markdown",
      "id": "75997450",
      "metadata": {
        "id": "75997450"
      },
      "source": [
        "### Solve the equation numerically:\n",
        "\n",
        "\n",
        "$\\frac{\\tan(z)}{\\sqrt{\\left(\\frac{z_0}{z}\\right)^2 - 1}} - 1= 0$"
      ]
    },
    {
      "cell_type": "code",
      "execution_count": 12,
      "id": "334ddd7d",
      "metadata": {
        "id": "334ddd7d"
      },
      "outputs": [],
      "source": [
        "# Objective function to be optimised\n",
        "\n",
        "def obj_func(z, z0):\n",
        "\n",
        "    opt_func = (np.tan(z))/(np.sqrt((z0**2/z**2) - 1)) - 1\n",
        "\n",
        "    return opt_func"
      ]
    },
    {
      "cell_type": "code",
      "execution_count": 13,
      "id": "84e08cb6",
      "metadata": {
        "id": "84e08cb6"
      },
      "outputs": [],
      "source": [
        "# Optimisation\n",
        "\n",
        "result = opt.root(obj_func, [1.5, 4, 6], args = z0)"
      ]
    },
    {
      "cell_type": "code",
      "execution_count": 14,
      "id": "f6cbfce6",
      "metadata": {
        "colab": {
          "base_uri": "https://localhost:8080/"
        },
        "id": "f6cbfce6",
        "outputId": "4d1d3936-6655-4f2b-a95c-74b0005c5465"
      },
      "outputs": [
        {
          "output_type": "stream",
          "name": "stdout",
          "text": [
            " message: The solution converged.\n",
            " success: True\n",
            "  status: 1\n",
            "     fun: [-2.346e-11  6.798e-10 -1.674e-10]\n",
            "       x: [ 1.395e+00  4.165e+00  6.831e+00]\n",
            "    nfev: 18\n",
            "    fjac: [[ 9.387e-01  3.246e-01 -1.161e-01]\n",
            "           [-3.217e-01  9.459e-01  4.272e-02]\n",
            "           [-1.237e-01  2.743e-03 -9.923e-01]]\n",
            "       r: [ 7.358e+00  8.417e-01 -2.607e-01  2.334e+00 -1.897e-01\n",
            "           -2.763e+00]\n",
            "     qtf: [-3.829e-08 -9.637e-08 -2.862e-08]\n"
          ]
        }
      ],
      "source": [
        "print(result)"
      ]
    },
    {
      "cell_type": "code",
      "execution_count": 15,
      "id": "cfd5ff55",
      "metadata": {
        "colab": {
          "base_uri": "https://localhost:8080/"
        },
        "id": "cfd5ff55",
        "outputId": "83bc97ed-168b-4dee-fbf8-ae08f74049dd"
      },
      "outputs": [
        {
          "output_type": "stream",
          "name": "stdout",
          "text": [
            "[1.39546614 4.16483091 6.83067433]\n"
          ]
        }
      ],
      "source": [
        "print(result.x)"
      ]
    },
    {
      "cell_type": "code",
      "execution_count": 16,
      "id": "c6bdbb24",
      "metadata": {
        "id": "c6bdbb24"
      },
      "outputs": [],
      "source": [
        "y1 = np.tan(result.x[0])\n",
        "y2 = np.tan(result.x[1])\n",
        "y3 = np.tan(result.x[2])"
      ]
    },
    {
      "cell_type": "code",
      "execution_count": 17,
      "id": "6a0512f6",
      "metadata": {
        "colab": {
          "base_uri": "https://localhost:8080/",
          "height": 445
        },
        "id": "6a0512f6",
        "outputId": "7b28f378-0e1a-42be-e880-ae216719b029"
      },
      "outputs": [
        {
          "output_type": "display_data",
          "data": {
            "text/plain": [
              "<Figure size 600x500 with 1 Axes>"
            ],
            "image/png": "[encoded data removed]"
          },
          "metadata": {}
        }
      ],
      "source": [
        "# Remove large values from the tangent\n",
        "\n",
        "y_lhs[y_lhs > +4*z0] = np.nan\n",
        "y_lhs[y_lhs < -4*z0] = np.nan\n",
        "\n",
        "# Plotting\n",
        "\n",
        "plt.figure(figsize = (6,5))\n",
        "\n",
        "plt.plot(z, y_lhs)\n",
        "plt.plot(z, y_rhs)\n",
        "\n",
        "plt.plot(result.x[0], y1, marker = \"o\", color = 'red')\n",
        "plt.plot(result.x[1], y2, marker = \"o\", color = 'red')\n",
        "plt.plot(result.x[2], y3, marker = \"o\", color = 'red')\n",
        "\n",
        "plt.xlim(0, z0)\n",
        "plt.ylim(0, 3*z0)\n",
        "\n",
        "plt.show()"
      ]
    },
    {
      "cell_type": "code",
      "execution_count": 22,
      "id": "4687f283",
      "metadata": {
        "id": "4687f283"
      },
      "outputs": [],
      "source": [
        "# Fix z_0\n",
        "z0 = 16\n",
        "\n",
        "# Vector for z\n",
        "z = np.arange(0, 20*np.pi, 0.001)"
      ]
    },
    {
      "cell_type": "code",
      "source": [
        "# Evaluate the LHS and RHS\n",
        "\n",
        "y_lhs = np.tan(z)\n",
        "\n",
        "y_rhs = np.sqrt((z0**2/z**2) - 1)\n"
      ],
      "metadata": {
        "colab": {
          "base_uri": "https://localhost:8080/"
        },
        "id": "kDIuImKHWlyj",
        "outputId": "32a2cde7-d89e-4470-e69b-9cfcc8474f25"
      },
      "id": "kDIuImKHWlyj",
      "execution_count": 23,
      "outputs": [
        {
          "output_type": "stream",
          "name": "stderr",
          "text": [
            "<ipython-input-23-d117e7a36931>:5: RuntimeWarning: divide by zero encountered in true_divide\n",
            "  y_rhs = np.sqrt((z0**2/z**2) - 1)\n",
            "<ipython-input-23-d117e7a36931>:5: RuntimeWarning: invalid value encountered in sqrt\n",
            "  y_rhs = np.sqrt((z0**2/z**2) - 1)\n"
          ]
        }
      ]
    },
    {
      "cell_type": "code",
      "source": [
        "# Remove large values from the tangent\n",
        "\n",
        "y_lhs[y_lhs > +4*z0] = np.nan\n",
        "y_lhs[y_lhs < -4*z0] = np.nan\n",
        "\n",
        "# Plotting\n",
        "\n",
        "plt.figure(figsize = (4,3))\n",
        "\n",
        "plt.plot(z, y_lhs)\n",
        "plt.plot(z, y_rhs)\n",
        "\n",
        "plt.xlim(0, z0)\n",
        "plt.ylim(0, 3*z0)\n",
        "\n",
        "plt.show()"
      ],
      "metadata": {
        "colab": {
          "base_uri": "https://localhost:8080/",
          "height": 291
        },
        "id": "-jTchH3JWtiK",
        "outputId": "805ff226-a924-4e9d-a52c-24c36e87f58f"
      },
      "id": "-jTchH3JWtiK",
      "execution_count": 24,
      "outputs": [
        {
          "output_type": "display_data",
          "data": {
            "text/plain": [
              "<Figure size 400x300 with 1 Axes>"
            ],
            "image/png": "[encoded data removed]"
          },
          "metadata": {}
        }
      ]
    },
    {
      "cell_type": "code",
      "source": [
        "# Optimisation\n",
        "\n",
        "result_2 = opt.root(obj_func, [1.5, 4, 6, 10, 12.5], args = z0)"
      ],
      "metadata": {
        "id": "QWmF7amRWwWc"
      },
      "id": "QWmF7amRWwWc",
      "execution_count": 25,
      "outputs": []
    },
    {
      "cell_type": "code",
      "source": [
        "print(result_2)"
      ],
      "metadata": {
        "colab": {
          "base_uri": "https://localhost:8080/"
        },
        "id": "GSkjEoqWXHZe",
        "outputId": "9ba77d9e-e641-4d79-ca7d-9636930bdc51"
      },
      "id": "GSkjEoqWXHZe",
      "execution_count": 26,
      "outputs": [
        {
          "output_type": "stream",
          "name": "stdout",
          "text": [
            " message: The solution converged.\n",
            " success: True\n",
            "  status: 1\n",
            "     fun: [ 1.907e-09  1.757e-08 -3.453e-09 -1.530e-09 -9.783e-10]\n",
            "       x: [ 1.478e+00  4.432e+00  7.375e+00  1.030e+01  1.317e+01]\n",
            "    nfev: 32\n",
            "    fjac: [[-5.580e-01 -7.895e-01 ...  2.073e-01 -8.954e-02]\n",
            "           [-6.919e-01  6.126e-01 ...  3.000e-01 -1.419e-01]\n",
            "           ...\n",
            "           [-3.682e-01  2.380e-02 ... -9.278e-01 -5.522e-02]\n",
            "           [-1.785e-01  1.863e-02 ...  1.280e-02  9.837e-01]]\n",
            "       r: [-2.263e+01 -3.176e+00 ... -2.118e-01  2.311e+00]\n",
            "     qtf: [ 3.794e-07 -1.707e-07 -1.632e-07 -5.616e-08 -2.129e-10]\n"
          ]
        }
      ]
    },
    {
      "cell_type": "code",
      "source": [
        "print(result_2.x)"
      ],
      "metadata": {
        "colab": {
          "base_uri": "https://localhost:8080/"
        },
        "id": "tR-PDR-aXJE2",
        "outputId": "b3d0330d-7315-40d2-9e40-ee9e1aa9c53b"
      },
      "id": "tR-PDR-aXJE2",
      "execution_count": 27,
      "outputs": [
        {
          "output_type": "stream",
          "name": "stdout",
          "text": [
            "[ 1.47827235  4.43173565  7.37493489 10.29647359 13.17024733]\n"
          ]
        }
      ]
    },
    {
      "cell_type": "code",
      "source": [
        "y1 = np.tan(result_2.x[0])\n",
        "y2 = np.tan(result_2.x[1])\n",
        "y3 = np.tan(result_2.x[2])\n",
        "y4 = np.tan(result_2.x[3])\n",
        "y5 = np.tan(result_2.x[4])"
      ],
      "metadata": {
        "id": "xmrSbZpgXMBt"
      },
      "id": "xmrSbZpgXMBt",
      "execution_count": 28,
      "outputs": []
    },
    {
      "cell_type": "code",
      "source": [
        "# Remove large values from the tangent\n",
        "\n",
        "y_lhs[y_lhs > +4*z0] = np.nan\n",
        "y_lhs[y_lhs < -4*z0] = np.nan\n",
        "\n",
        "# Plotting\n",
        "\n",
        "plt.figure(figsize = (6,5))\n",
        "\n",
        "plt.plot(z, y_lhs)\n",
        "plt.plot(z, y_rhs)\n",
        "\n",
        "plt.plot(result_2.x[0], y1, marker = \"o\", color = 'red')\n",
        "plt.plot(result_2.x[1], y2, marker = \"o\", color = 'red')\n",
        "plt.plot(result_2.x[2], y3, marker = \"o\", color = 'red')\n",
        "plt.plot(result_2.x[3], y4, marker = \"o\", color = 'red')\n",
        "plt.plot(result_2.x[4], y5, marker = \"o\", color = 'red')\n",
        "\n",
        "plt.xlim(0, z0)\n",
        "plt.ylim(0, 3*z0)\n",
        "\n",
        "plt.show()"
      ],
      "metadata": {
        "colab": {
          "base_uri": "https://localhost:8080/",
          "height": 445
        },
        "id": "bJfpwllyXVBv",
        "outputId": "00be6789-f61a-4e7d-e63c-3a4a30927e3e"
      },
      "id": "bJfpwllyXVBv",
      "execution_count": 30,
      "outputs": [
        {
          "output_type": "display_data",
          "data": {
            "text/plain": [
              "<Figure size 600x500 with 1 Axes>"
            ],
            "image/png": "[encoded data removed]"
          },
          "metadata": {}
        }
      ]
    },
    {
      "cell_type": "code",
      "source": [],
      "metadata": {
        "id": "jVOwjTslXbFE"
      },
      "id": "jVOwjTslXbFE",
      "execution_count": null,
      "outputs": []
    }
  ],
  "metadata": {
    "kernelspec": {
      "display_name": "Python 3 (ipykernel)",
      "language": "python",
      "name": "python3"
    },
    "language_info": {
      "codemirror_mode": {
        "name": "ipython",
        "version": 3
      },
      "file_extension": ".py",
      "mimetype": "text/x-python",
      "name": "python",
      "nbconvert_exporter": "python",
      "pygments_lexer": "ipython3",
      "version": "3.7.13"
    },
    "colab": {
      "provenance": [],
      "include_colab_link": true
    }
  },
  "nbformat": 4,
  "nbformat_minor": 5
}