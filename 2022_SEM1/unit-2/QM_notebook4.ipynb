{
 "cells": [
  {
   "cell_type": "markdown",
   "metadata": {},
   "source": [
    "# Particle in a finite potential well"
   ]
  },
  {
   "cell_type": "code",
   "execution_count": 2,
   "metadata": {
    "id": "2UgIxlY_IEnj"
   },
   "outputs": [],
   "source": [
    "import numpy as np\n",
    "import matplotlib.pyplot as plt\n",
    "\n",
    "import scipy.optimize as opt"
   ]
  },
  {
   "cell_type": "code",
   "execution_count": 9,
   "metadata": {
    "colab": {
     "base_uri": "https://localhost:8080/"
    },
    "id": "rF0ryqBHIWh6",
    "outputId": "11ee2668-fdda-4360-e1ef-6792e57234fa"
   },
   "outputs": [
    {
     "name": "stdout",
     "output_type": "stream",
     "text": [
      "[0.00000e+00 1.00000e-04 2.00000e-04 ... 6.28316e+01 6.28317e+01\n",
      " 6.28318e+01]\n"
     ]
    }
   ],
   "source": [
    "z = np.arange(0, 20*np.pi, 0.0001)\n",
    "\n",
    "print(z)"
   ]
  },
  {
   "cell_type": "code",
   "execution_count": 18,
   "metadata": {
    "colab": {
     "base_uri": "https://localhost:8080/"
    },
    "id": "Xj14TrdrIpsu",
    "outputId": "5f976cb9-5028-49a4-dde8-b1780a3342b1"
   },
   "outputs": [
    {
     "name": "stderr",
     "output_type": "stream",
     "text": [
      "/Users/webb/opt/anaconda3/envs/py37/lib/python3.7/site-packages/ipykernel_launcher.py:5: RuntimeWarning: divide by zero encountered in true_divide\n",
      "  \"\"\"\n",
      "/Users/webb/opt/anaconda3/envs/py37/lib/python3.7/site-packages/ipykernel_launcher.py:5: RuntimeWarning: invalid value encountered in sqrt\n",
      "  \"\"\"\n"
     ]
    }
   ],
   "source": [
    "z0 = 8\n",
    "\n",
    "y1 = np.tan(z)\n",
    "\n",
    "y2 = np.sqrt(z0**2/z**2 - 1)"
   ]
  },
  {
   "cell_type": "code",
   "execution_count": 19,
   "metadata": {
    "colab": {
     "base_uri": "https://localhost:8080/",
     "height": 286
    },
    "id": "x783fMaLJJur",
    "outputId": "4ed90fcf-17c5-48cf-e0fd-2f9a07fa80e5"
   },
   "outputs": [
    {
     "data": {
      "text/plain": [
       "(0.0, 16.0)"
      ]
     },
     "execution_count": 19,
     "metadata": {},
     "output_type": "execute_result"
    },
    {
     "data": {
      "image/png": "[encoded data removed]",
      "text/plain": [
       "<Figure size 432x288 with 1 Axes>"
      ]
     },
     "metadata": {
      "needs_background": "light"
     },
     "output_type": "display_data"
    }
   ],
   "source": [
    "%matplotlib inline\n",
    "y1[y1 > +3*z0] = np.nan\n",
    "y1[y1 < -3*z0] = np.nan\n",
    "\n",
    "plt.plot(z, y1)\n",
    "plt.plot(z, y2)\n",
    "plt.xlim(0,z0)\n",
    "plt.ylim(0,2*z0)"
   ]
  },
  {
   "cell_type": "code",
   "execution_count": 20,
   "metadata": {
    "id": "yI1RlKPTJWXh"
   },
   "outputs": [],
   "source": [
    "def tan_func(z, z0):\n",
    "  return (np.tan(z)/np.sqrt((z0**2/z**2)-1)) -1"
   ]
  },
  {
   "cell_type": "code",
   "execution_count": 21,
   "metadata": {
    "id": "4To4PxOBK7Wn"
   },
   "outputs": [],
   "source": [
    "# https://docs.scipy.org/doc/scipy/reference/generated/scipy.optimize.root.html"
   ]
  },
  {
   "cell_type": "code",
   "execution_count": 22,
   "metadata": {
    "colab": {
     "base_uri": "https://localhost:8080/"
    },
    "id": "qOsoVJWLLTpD",
    "outputId": "8bfba6af-11b8-469c-ebda-bbac550b1b72"
   },
   "outputs": [],
   "source": [
    "result = opt.root(tan_func, [1.2, 3.01, 7.0], args = z0)"
   ]
  },
  {
   "cell_type": "code",
   "execution_count": 23,
   "metadata": {
    "colab": {
     "base_uri": "https://localhost:8080/"
    },
    "id": "khYlXxJ9LoHW",
    "outputId": "87b5e0a9-f45d-48f4-e2cb-314c573590de"
   },
   "outputs": [
    {
     "name": "stdout",
     "output_type": "stream",
     "text": [
      "True\n"
     ]
    }
   ],
   "source": [
    "print(result.success)"
   ]
  },
  {
   "cell_type": "code",
   "execution_count": 24,
   "metadata": {
    "colab": {
     "base_uri": "https://localhost:8080/"
    },
    "id": "eT6fgMw8Lv89",
    "outputId": "1addfc81-f879-4d16-ec40-b1654118f7e8"
   },
   "outputs": [
    {
     "name": "stdout",
     "output_type": "stream",
     "text": [
      "    fjac: array([[-9.99808950e-01, -1.91700862e-02, -3.81736370e-03],\n",
      "       [ 1.91729241e-02, -9.99815932e-01, -7.08222593e-04],\n",
      "       [ 3.80308435e-03,  7.81277312e-04, -9.99992463e-01]])\n",
      "     fun: array([-2.71675571e-10,  5.12891951e-11,  7.12714332e-11])\n",
      " message: 'The solution converged.'\n",
      "    nfev: 34\n",
      "     qtf: array([ 5.51221439e-08, -1.24863438e-08, -1.49506704e-08])\n",
      "       r: array([-6.57695208e+00,  2.20515286e-03, -2.96741507e-02, -2.53778651e+00,\n",
      "       -2.47923840e-01, -2.84209697e+00])\n",
      "  status: 1\n",
      " success: True\n",
      "       x: array([1.39546614, 4.16483091, 6.83067433])\n"
     ]
    }
   ],
   "source": [
    "print(result)"
   ]
  },
  {
   "cell_type": "code",
   "execution_count": 25,
   "metadata": {
    "colab": {
     "base_uri": "https://localhost:8080/"
    },
    "id": "qIQ3OevBLzo7",
    "outputId": "9873c24e-63e1-4651-b1b4-16834674baed"
   },
   "outputs": [
    {
     "name": "stdout",
     "output_type": "stream",
     "text": [
      "[1.39546614 4.16483091 6.83067433]\n"
     ]
    }
   ],
   "source": [
    "print(result.x)"
   ]
  }
 ],
 "metadata": {
  "colab": {
   "collapsed_sections": [],
   "name": "QM-notebook4.ipynb",
   "provenance": []
  },
  "kernelspec": {
   "display_name": "Python 3",
   "language": "python",
   "name": "python3"
  },
  "language_info": {
   "codemirror_mode": {
    "name": "ipython",
    "version": 3
   },
   "file_extension": ".py",
   "mimetype": "text/x-python",
   "name": "python",
   "nbconvert_exporter": "python",
   "pygments_lexer": "ipython3",
   "version": "3.7.10"
  }
 },
 "nbformat": 4,
 "nbformat_minor": 1
}
